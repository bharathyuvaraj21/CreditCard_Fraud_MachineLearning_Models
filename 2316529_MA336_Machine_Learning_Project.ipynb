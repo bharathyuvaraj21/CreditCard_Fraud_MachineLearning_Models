{
 "cells": [
  {
   "cell_type": "markdown",
   "id": "55194de0-c4d7-4279-a905-d9453be0c9b7",
   "metadata": {},
   "source": [
    "# CREDIT-CARD FRAUD PREDICTION REPORT"
   ]
  },
  {
   "cell_type": "markdown",
   "id": "1d24e7e4-9f16-4a96-9c2f-c1c0314c40e7",
   "metadata": {},
   "source": [
    "# Name:Bharath Yuvaraj"
   ]
  },
  {
   "cell_type": "markdown",
   "id": "7ecad830-eee0-4ecd-a7dc-e8296c563a39",
   "metadata": {},
   "source": [
    "# Registration Number: 2316529"
   ]
  },
  {
   "cell_type": "markdown",
   "id": "846c8a43-2f34-445d-b20c-7d784569e1b5",
   "metadata": {},
   "source": [
    "# Course ID: MA336"
   ]
  },
  {
   "cell_type": "markdown",
   "id": "2b58525a-ad75-4195-932d-d50b9df83c45",
   "metadata": {},
   "source": [
    "# Problem Statment\n"
   ]
  },
  {
   "cell_type": "markdown",
   "id": "6d9cab8d-5c6f-445d-a3a0-d3c060518a1d",
   "metadata": {},
   "source": [
    "In today's digital world, credit cards have become an integral part of our financial transactions, offering convenience and flexibility. However, the internet is the reason for an increased rate of credit card fraud transactions but the fraud has increased not in online shopping and electronic payments but also offline transactions. Having a credit card means that we can borrow the funds[1]. The funds can be used for any of the purposes. When coming to the issuance of the card, the condition involved is that the cardholder will pay back the original amount they borrowed along with the additional charges they agreed to pay. Credit card fraud occurs when unauthorized transactions are made using stolen or counterfeit credit card information. It encompasses various fraudulent activities, including unauthorized purchases, identity theft, and account takeover.Credit card fraud poses significant challenges to both consumers and financial institutions. For consumers, it can result in financial losses, damage to credit scores, and personal stress due to the hassle of resolving fraudulent charges.\n",
    "Machine learning is a natural choice for large service providers processing millions of transactions daily. Moreover, many people hardly run their business successfully without ML or deep learning solutions. If they did, they'd become easy prey for all sorts of scammers. Machine learning tools have higher precision and return more relevant results as they consider multiple additional factors. This is because ML technologies can consider many more data points, including the tiniest details of behavior patterns associated with a particular account.\n",
    "By doing this project on simulated credit card dataset information, containing legitimate and fraud transactions from the duration 1st Jan 2019 - 31st Dec 2020. It covers credit cards of 1000 customers doing transactions with a pool of 800 merchants.I have impelmented five supervised machine learning models like logistics regression model,Random forest model,Decission Tree model,XGBoost Classfier model and Neural Network model to predict weather fradulant acivity is performed or not.\n",
    "Data-source:https://www.kaggle.com/code/sivarajsingh/credit-card-fraud-detection/input"
   ]
  },
  {
   "cell_type": "markdown",
   "id": "710e015b-e024-4b26-b37e-b422fb39a8cf",
   "metadata": {},
   "source": [
    "# Importing All Libraries"
   ]
  },
  {
   "cell_type": "code",
   "execution_count": 1,
   "id": "bb7bf027-c9d4-4b7e-9db0-04e14355f08a",
   "metadata": {},
   "outputs": [],
   "source": [
    "import numpy as np # linear algebra\n",
    "import pandas as pd # data processing, CSV file I/O (e.g. pd.read_csv)\n",
    "\n",
    "\n",
    "from sklearn.model_selection import GridSearchCV, RandomizedSearchCV, train_test_split # train-test split\n",
    "from sklearn.metrics import confusion_matrix, classification_report, roc_curve, auc # classification metrics\n",
    "\n",
    "from sklearn.model_selection import GridSearchCV # grid search cross validation\n",
    "from sklearn.model_selection import RandomizedSearchCV # randomized search cross validation\n",
    "\n",
    "# supervised learning algorithms\n",
    "from sklearn.tree import DecisionTreeClassifier # Decision Tree\n",
    "from sklearn.ensemble import RandomForestClassifier # Random Forest\n",
    "from xgboost import XGBClassifier # XGBClassifier\n",
    "from sklearn.linear_model import LogisticRegression #LogisticRegression\n",
    "from sklearn.neural_network import MLPClassifier # MLPClassifier\n",
    "\n",
    "#Neural Newtork model\n",
    "import tensorflow as tf\n",
    "from tensorflow.keras.models import Sequential\n",
    "from tensorflow.keras.layers import Dense\n",
    "from tensorflow.keras.callbacks import EarlyStopping\n",
    "\n",
    "# visualization libraries\n",
    "import matplotlib.pyplot as plt\n",
    "import seaborn as sns\n",
    "%matplotlib inline"
   ]
  },
  {
   "cell_type": "markdown",
   "id": "eb7eb001-a8e2-419d-b930-1bb3b09b3541",
   "metadata": {},
   "source": [
    "# Loading the Dataset"
   ]
  },
  {
   "cell_type": "code",
   "execution_count": 2,
   "id": "00093eb3-09ba-47cd-9224-6a2903360320",
   "metadata": {},
   "outputs": [
    {
     "name": "stdout",
     "output_type": "stream",
     "text": [
      "(1296675, 23) (555719, 23)\n"
     ]
    },
    {
     "data": {
      "text/html": [
       "<div>\n",
       "<style scoped>\n",
       "    .dataframe tbody tr th:only-of-type {\n",
       "        vertical-align: middle;\n",
       "    }\n",
       "\n",
       "    .dataframe tbody tr th {\n",
       "        vertical-align: top;\n",
       "    }\n",
       "\n",
       "    .dataframe thead th {\n",
       "        text-align: right;\n",
       "    }\n",
       "</style>\n",
       "<table border=\"1\" class=\"dataframe\">\n",
       "  <thead>\n",
       "    <tr style=\"text-align: right;\">\n",
       "      <th></th>\n",
       "      <th>Unnamed: 0</th>\n",
       "      <th>trans_date_trans_time</th>\n",
       "      <th>cc_num</th>\n",
       "      <th>merchant</th>\n",
       "      <th>category</th>\n",
       "      <th>amt</th>\n",
       "      <th>first</th>\n",
       "      <th>last</th>\n",
       "      <th>gender</th>\n",
       "      <th>street</th>\n",
       "      <th>...</th>\n",
       "      <th>lat</th>\n",
       "      <th>long</th>\n",
       "      <th>city_pop</th>\n",
       "      <th>job</th>\n",
       "      <th>dob</th>\n",
       "      <th>trans_num</th>\n",
       "      <th>unix_time</th>\n",
       "      <th>merch_lat</th>\n",
       "      <th>merch_long</th>\n",
       "      <th>is_fraud</th>\n",
       "    </tr>\n",
       "  </thead>\n",
       "  <tbody>\n",
       "    <tr>\n",
       "      <th>0</th>\n",
       "      <td>0</td>\n",
       "      <td>2020-06-21 12:14:25</td>\n",
       "      <td>2291163933867244</td>\n",
       "      <td>fraud_Kirlin and Sons</td>\n",
       "      <td>personal_care</td>\n",
       "      <td>2.86</td>\n",
       "      <td>Jeff</td>\n",
       "      <td>Elliott</td>\n",
       "      <td>M</td>\n",
       "      <td>351 Darlene Green</td>\n",
       "      <td>...</td>\n",
       "      <td>33.9659</td>\n",
       "      <td>-80.9355</td>\n",
       "      <td>333497</td>\n",
       "      <td>Mechanical engineer</td>\n",
       "      <td>1968-03-19</td>\n",
       "      <td>2da90c7d74bd46a0caf3777415b3ebd3</td>\n",
       "      <td>1371816865</td>\n",
       "      <td>33.986391</td>\n",
       "      <td>-81.200714</td>\n",
       "      <td>0</td>\n",
       "    </tr>\n",
       "    <tr>\n",
       "      <th>1</th>\n",
       "      <td>1</td>\n",
       "      <td>2020-06-21 12:14:33</td>\n",
       "      <td>3573030041201292</td>\n",
       "      <td>fraud_Sporer-Keebler</td>\n",
       "      <td>personal_care</td>\n",
       "      <td>29.84</td>\n",
       "      <td>Joanne</td>\n",
       "      <td>Williams</td>\n",
       "      <td>F</td>\n",
       "      <td>3638 Marsh Union</td>\n",
       "      <td>...</td>\n",
       "      <td>40.3207</td>\n",
       "      <td>-110.4360</td>\n",
       "      <td>302</td>\n",
       "      <td>Sales professional, IT</td>\n",
       "      <td>1990-01-17</td>\n",
       "      <td>324cc204407e99f51b0d6ca0055005e7</td>\n",
       "      <td>1371816873</td>\n",
       "      <td>39.450498</td>\n",
       "      <td>-109.960431</td>\n",
       "      <td>0</td>\n",
       "    </tr>\n",
       "    <tr>\n",
       "      <th>2</th>\n",
       "      <td>2</td>\n",
       "      <td>2020-06-21 12:14:53</td>\n",
       "      <td>3598215285024754</td>\n",
       "      <td>fraud_Swaniawski, Nitzsche and Welch</td>\n",
       "      <td>health_fitness</td>\n",
       "      <td>41.28</td>\n",
       "      <td>Ashley</td>\n",
       "      <td>Lopez</td>\n",
       "      <td>F</td>\n",
       "      <td>9333 Valentine Point</td>\n",
       "      <td>...</td>\n",
       "      <td>40.6729</td>\n",
       "      <td>-73.5365</td>\n",
       "      <td>34496</td>\n",
       "      <td>Librarian, public</td>\n",
       "      <td>1970-10-21</td>\n",
       "      <td>c81755dbbbea9d5c77f094348a7579be</td>\n",
       "      <td>1371816893</td>\n",
       "      <td>40.495810</td>\n",
       "      <td>-74.196111</td>\n",
       "      <td>0</td>\n",
       "    </tr>\n",
       "    <tr>\n",
       "      <th>3</th>\n",
       "      <td>3</td>\n",
       "      <td>2020-06-21 12:15:15</td>\n",
       "      <td>3591919803438423</td>\n",
       "      <td>fraud_Haley Group</td>\n",
       "      <td>misc_pos</td>\n",
       "      <td>60.05</td>\n",
       "      <td>Brian</td>\n",
       "      <td>Williams</td>\n",
       "      <td>M</td>\n",
       "      <td>32941 Krystal Mill Apt. 552</td>\n",
       "      <td>...</td>\n",
       "      <td>28.5697</td>\n",
       "      <td>-80.8191</td>\n",
       "      <td>54767</td>\n",
       "      <td>Set designer</td>\n",
       "      <td>1987-07-25</td>\n",
       "      <td>2159175b9efe66dc301f149d3d5abf8c</td>\n",
       "      <td>1371816915</td>\n",
       "      <td>28.812398</td>\n",
       "      <td>-80.883061</td>\n",
       "      <td>0</td>\n",
       "    </tr>\n",
       "    <tr>\n",
       "      <th>4</th>\n",
       "      <td>4</td>\n",
       "      <td>2020-06-21 12:15:17</td>\n",
       "      <td>3526826139003047</td>\n",
       "      <td>fraud_Johnston-Casper</td>\n",
       "      <td>travel</td>\n",
       "      <td>3.19</td>\n",
       "      <td>Nathan</td>\n",
       "      <td>Massey</td>\n",
       "      <td>M</td>\n",
       "      <td>5783 Evan Roads Apt. 465</td>\n",
       "      <td>...</td>\n",
       "      <td>44.2529</td>\n",
       "      <td>-85.0170</td>\n",
       "      <td>1126</td>\n",
       "      <td>Furniture designer</td>\n",
       "      <td>1955-07-06</td>\n",
       "      <td>57ff021bd3f328f8738bb535c302a31b</td>\n",
       "      <td>1371816917</td>\n",
       "      <td>44.959148</td>\n",
       "      <td>-85.884734</td>\n",
       "      <td>0</td>\n",
       "    </tr>\n",
       "    <tr>\n",
       "      <th>5</th>\n",
       "      <td>5</td>\n",
       "      <td>2020-06-21 12:15:37</td>\n",
       "      <td>30407675418785</td>\n",
       "      <td>fraud_Daugherty LLC</td>\n",
       "      <td>kids_pets</td>\n",
       "      <td>19.55</td>\n",
       "      <td>Danielle</td>\n",
       "      <td>Evans</td>\n",
       "      <td>F</td>\n",
       "      <td>76752 David Lodge Apt. 064</td>\n",
       "      <td>...</td>\n",
       "      <td>42.1939</td>\n",
       "      <td>-76.7361</td>\n",
       "      <td>520</td>\n",
       "      <td>Psychotherapist</td>\n",
       "      <td>1991-10-13</td>\n",
       "      <td>798db04aaceb4febd084f1a7c404da93</td>\n",
       "      <td>1371816937</td>\n",
       "      <td>41.747157</td>\n",
       "      <td>-77.584197</td>\n",
       "      <td>0</td>\n",
       "    </tr>\n",
       "    <tr>\n",
       "      <th>6</th>\n",
       "      <td>6</td>\n",
       "      <td>2020-06-21 12:15:44</td>\n",
       "      <td>213180742685905</td>\n",
       "      <td>fraud_Romaguera Ltd</td>\n",
       "      <td>health_fitness</td>\n",
       "      <td>133.93</td>\n",
       "      <td>Kayla</td>\n",
       "      <td>Sutton</td>\n",
       "      <td>F</td>\n",
       "      <td>010 Weaver Land</td>\n",
       "      <td>...</td>\n",
       "      <td>40.5070</td>\n",
       "      <td>-123.9743</td>\n",
       "      <td>1139</td>\n",
       "      <td>Therapist, occupational</td>\n",
       "      <td>1951-01-15</td>\n",
       "      <td>17003d7ce534440eadb10c4750e020e5</td>\n",
       "      <td>1371816944</td>\n",
       "      <td>41.499458</td>\n",
       "      <td>-124.888729</td>\n",
       "      <td>0</td>\n",
       "    </tr>\n",
       "    <tr>\n",
       "      <th>7</th>\n",
       "      <td>7</td>\n",
       "      <td>2020-06-21 12:15:50</td>\n",
       "      <td>3589289942931264</td>\n",
       "      <td>fraud_Reichel LLC</td>\n",
       "      <td>personal_care</td>\n",
       "      <td>10.37</td>\n",
       "      <td>Paula</td>\n",
       "      <td>Estrada</td>\n",
       "      <td>F</td>\n",
       "      <td>350 Stacy Glens</td>\n",
       "      <td>...</td>\n",
       "      <td>43.7557</td>\n",
       "      <td>-97.5936</td>\n",
       "      <td>343</td>\n",
       "      <td>Development worker, international aid</td>\n",
       "      <td>1972-03-05</td>\n",
       "      <td>8be473af4f05fc6146ea55ace73e7ca2</td>\n",
       "      <td>1371816950</td>\n",
       "      <td>44.495498</td>\n",
       "      <td>-97.728453</td>\n",
       "      <td>0</td>\n",
       "    </tr>\n",
       "    <tr>\n",
       "      <th>8</th>\n",
       "      <td>8</td>\n",
       "      <td>2020-06-21 12:16:10</td>\n",
       "      <td>3596357274378601</td>\n",
       "      <td>fraud_Goyette, Howell and Collier</td>\n",
       "      <td>shopping_pos</td>\n",
       "      <td>4.37</td>\n",
       "      <td>David</td>\n",
       "      <td>Everett</td>\n",
       "      <td>M</td>\n",
       "      <td>4138 David Fall</td>\n",
       "      <td>...</td>\n",
       "      <td>41.0001</td>\n",
       "      <td>-78.2357</td>\n",
       "      <td>3688</td>\n",
       "      <td>Advice worker</td>\n",
       "      <td>1973-05-27</td>\n",
       "      <td>71a1da150d1ce510193d7622e08e784e</td>\n",
       "      <td>1371816970</td>\n",
       "      <td>41.546067</td>\n",
       "      <td>-78.120238</td>\n",
       "      <td>0</td>\n",
       "    </tr>\n",
       "    <tr>\n",
       "      <th>9</th>\n",
       "      <td>9</td>\n",
       "      <td>2020-06-21 12:16:11</td>\n",
       "      <td>3546897637165774</td>\n",
       "      <td>fraud_Kilback Group</td>\n",
       "      <td>food_dining</td>\n",
       "      <td>66.54</td>\n",
       "      <td>Kayla</td>\n",
       "      <td>Obrien</td>\n",
       "      <td>F</td>\n",
       "      <td>7921 Robert Port Suite 343</td>\n",
       "      <td>...</td>\n",
       "      <td>31.6591</td>\n",
       "      <td>-96.8094</td>\n",
       "      <td>263</td>\n",
       "      <td>Barrister</td>\n",
       "      <td>1956-05-30</td>\n",
       "      <td>a7915132c7c4240996ba03a47f81e3bd</td>\n",
       "      <td>1371816971</td>\n",
       "      <td>31.782919</td>\n",
       "      <td>-96.366185</td>\n",
       "      <td>0</td>\n",
       "    </tr>\n",
       "  </tbody>\n",
       "</table>\n",
       "<p>10 rows × 23 columns</p>\n",
       "</div>"
      ],
      "text/plain": [
       "   Unnamed: 0 trans_date_trans_time            cc_num  \\\n",
       "0           0   2020-06-21 12:14:25  2291163933867244   \n",
       "1           1   2020-06-21 12:14:33  3573030041201292   \n",
       "2           2   2020-06-21 12:14:53  3598215285024754   \n",
       "3           3   2020-06-21 12:15:15  3591919803438423   \n",
       "4           4   2020-06-21 12:15:17  3526826139003047   \n",
       "5           5   2020-06-21 12:15:37    30407675418785   \n",
       "6           6   2020-06-21 12:15:44   213180742685905   \n",
       "7           7   2020-06-21 12:15:50  3589289942931264   \n",
       "8           8   2020-06-21 12:16:10  3596357274378601   \n",
       "9           9   2020-06-21 12:16:11  3546897637165774   \n",
       "\n",
       "                               merchant        category     amt     first  \\\n",
       "0                 fraud_Kirlin and Sons   personal_care    2.86      Jeff   \n",
       "1                  fraud_Sporer-Keebler   personal_care   29.84    Joanne   \n",
       "2  fraud_Swaniawski, Nitzsche and Welch  health_fitness   41.28    Ashley   \n",
       "3                     fraud_Haley Group        misc_pos   60.05     Brian   \n",
       "4                 fraud_Johnston-Casper          travel    3.19    Nathan   \n",
       "5                   fraud_Daugherty LLC       kids_pets   19.55  Danielle   \n",
       "6                   fraud_Romaguera Ltd  health_fitness  133.93     Kayla   \n",
       "7                     fraud_Reichel LLC   personal_care   10.37     Paula   \n",
       "8     fraud_Goyette, Howell and Collier    shopping_pos    4.37     David   \n",
       "9                   fraud_Kilback Group     food_dining   66.54     Kayla   \n",
       "\n",
       "       last gender                       street  ...      lat      long  \\\n",
       "0   Elliott      M            351 Darlene Green  ...  33.9659  -80.9355   \n",
       "1  Williams      F             3638 Marsh Union  ...  40.3207 -110.4360   \n",
       "2     Lopez      F         9333 Valentine Point  ...  40.6729  -73.5365   \n",
       "3  Williams      M  32941 Krystal Mill Apt. 552  ...  28.5697  -80.8191   \n",
       "4    Massey      M     5783 Evan Roads Apt. 465  ...  44.2529  -85.0170   \n",
       "5     Evans      F   76752 David Lodge Apt. 064  ...  42.1939  -76.7361   \n",
       "6    Sutton      F              010 Weaver Land  ...  40.5070 -123.9743   \n",
       "7   Estrada      F              350 Stacy Glens  ...  43.7557  -97.5936   \n",
       "8   Everett      M              4138 David Fall  ...  41.0001  -78.2357   \n",
       "9    Obrien      F   7921 Robert Port Suite 343  ...  31.6591  -96.8094   \n",
       "\n",
       "   city_pop                                    job         dob  \\\n",
       "0    333497                    Mechanical engineer  1968-03-19   \n",
       "1       302                 Sales professional, IT  1990-01-17   \n",
       "2     34496                      Librarian, public  1970-10-21   \n",
       "3     54767                           Set designer  1987-07-25   \n",
       "4      1126                     Furniture designer  1955-07-06   \n",
       "5       520                        Psychotherapist  1991-10-13   \n",
       "6      1139                Therapist, occupational  1951-01-15   \n",
       "7       343  Development worker, international aid  1972-03-05   \n",
       "8      3688                          Advice worker  1973-05-27   \n",
       "9       263                              Barrister  1956-05-30   \n",
       "\n",
       "                          trans_num   unix_time  merch_lat  merch_long  \\\n",
       "0  2da90c7d74bd46a0caf3777415b3ebd3  1371816865  33.986391  -81.200714   \n",
       "1  324cc204407e99f51b0d6ca0055005e7  1371816873  39.450498 -109.960431   \n",
       "2  c81755dbbbea9d5c77f094348a7579be  1371816893  40.495810  -74.196111   \n",
       "3  2159175b9efe66dc301f149d3d5abf8c  1371816915  28.812398  -80.883061   \n",
       "4  57ff021bd3f328f8738bb535c302a31b  1371816917  44.959148  -85.884734   \n",
       "5  798db04aaceb4febd084f1a7c404da93  1371816937  41.747157  -77.584197   \n",
       "6  17003d7ce534440eadb10c4750e020e5  1371816944  41.499458 -124.888729   \n",
       "7  8be473af4f05fc6146ea55ace73e7ca2  1371816950  44.495498  -97.728453   \n",
       "8  71a1da150d1ce510193d7622e08e784e  1371816970  41.546067  -78.120238   \n",
       "9  a7915132c7c4240996ba03a47f81e3bd  1371816971  31.782919  -96.366185   \n",
       "\n",
       "   is_fraud  \n",
       "0         0  \n",
       "1         0  \n",
       "2         0  \n",
       "3         0  \n",
       "4         0  \n",
       "5         0  \n",
       "6         0  \n",
       "7         0  \n",
       "8         0  \n",
       "9         0  \n",
       "\n",
       "[10 rows x 23 columns]"
      ]
     },
     "execution_count": 2,
     "metadata": {},
     "output_type": "execute_result"
    }
   ],
   "source": [
    "# loading data\n",
    "data_train = pd.read_csv(\"fraudTrain.csv\")\n",
    "data_test = pd.read_csv(\"fraudTest.csv\")\n",
    "print(data_train.shape,data_test.shape)\n",
    "data_train.head(10)\n",
    "data_test.head(10)"
   ]
  },
  {
   "cell_type": "markdown",
   "id": "7fcb4754-06ca-472a-a028-524f884d347b",
   "metadata": {},
   "source": [
    "The above dataset is divided into two sets one set is train_dataset and test_dataset where the number of rows and columns in train_dataset is around (1296675, 23),test_dataset is around (555719, 23) consist of different column of discription and feature that are very important to work in this dataset and they are:\n",
    "trans_date_trans_time: date and time of the transaction\n",
    "cc_num: credit card number of customer\n",
    "merchant: customer is paying to which merchant(like Amazon, Walmart)\n",
    "\n",
    "Attribute documentation:\n",
    "amt: the amount of transaction\n",
    "first: first name of customer\n",
    "last: last anme of customer\n",
    "gender: gender of the customer\n",
    "street, city, state: address of the customer\n",
    "zip: zip code of the transaction\n",
    "lat: latitude of the customer\n",
    "long: longitude of customer\n",
    "city_pop: population of the city he is living\n",
    "job: job of cus\n",
    "dob: date of birth of the customer\n",
    "trans_num: unique transaction number for each and every transaction\n",
    "unix_time: time of the transaction in Unix( generally not used in our analysis as it is unique mostly)\n",
    "merch_lat: merchant lattitude\n",
    "merch_long: merchant longitude\n",
    "is_fraud: whether transaction is fraud or no (1- fraud, 0- not fraud)"
   ]
  },
  {
   "cell_type": "code",
   "execution_count": 3,
   "id": "5af471ee-9d2e-4d5f-b285-56ed35e83375",
   "metadata": {},
   "outputs": [
    {
     "data": {
      "text/html": [
       "<div>\n",
       "<style scoped>\n",
       "    .dataframe tbody tr th:only-of-type {\n",
       "        vertical-align: middle;\n",
       "    }\n",
       "\n",
       "    .dataframe tbody tr th {\n",
       "        vertical-align: top;\n",
       "    }\n",
       "\n",
       "    .dataframe thead th {\n",
       "        text-align: right;\n",
       "    }\n",
       "</style>\n",
       "<table border=\"1\" class=\"dataframe\">\n",
       "  <thead>\n",
       "    <tr style=\"text-align: right;\">\n",
       "      <th></th>\n",
       "      <th>Unnamed: 0</th>\n",
       "      <th>trans_date_trans_time</th>\n",
       "      <th>cc_num</th>\n",
       "      <th>merchant</th>\n",
       "      <th>category</th>\n",
       "      <th>amt</th>\n",
       "      <th>first</th>\n",
       "      <th>last</th>\n",
       "      <th>gender</th>\n",
       "      <th>street</th>\n",
       "      <th>...</th>\n",
       "      <th>lat</th>\n",
       "      <th>long</th>\n",
       "      <th>city_pop</th>\n",
       "      <th>job</th>\n",
       "      <th>dob</th>\n",
       "      <th>trans_num</th>\n",
       "      <th>unix_time</th>\n",
       "      <th>merch_lat</th>\n",
       "      <th>merch_long</th>\n",
       "      <th>is_fraud</th>\n",
       "    </tr>\n",
       "  </thead>\n",
       "  <tbody>\n",
       "    <tr>\n",
       "      <th>0</th>\n",
       "      <td>0</td>\n",
       "      <td>2019-01-01 00:00:18</td>\n",
       "      <td>2703186189652095</td>\n",
       "      <td>fraud_Rippin, Kub and Mann</td>\n",
       "      <td>misc_net</td>\n",
       "      <td>4.97</td>\n",
       "      <td>Jennifer</td>\n",
       "      <td>Banks</td>\n",
       "      <td>F</td>\n",
       "      <td>561 Perry Cove</td>\n",
       "      <td>...</td>\n",
       "      <td>36.0788</td>\n",
       "      <td>-81.1781</td>\n",
       "      <td>3495</td>\n",
       "      <td>Psychologist, counselling</td>\n",
       "      <td>1988-03-09</td>\n",
       "      <td>0b242abb623afc578575680df30655b9</td>\n",
       "      <td>1325376018</td>\n",
       "      <td>36.011293</td>\n",
       "      <td>-82.048315</td>\n",
       "      <td>0</td>\n",
       "    </tr>\n",
       "    <tr>\n",
       "      <th>1</th>\n",
       "      <td>1</td>\n",
       "      <td>2019-01-01 00:00:44</td>\n",
       "      <td>630423337322</td>\n",
       "      <td>fraud_Heller, Gutmann and Zieme</td>\n",
       "      <td>grocery_pos</td>\n",
       "      <td>107.23</td>\n",
       "      <td>Stephanie</td>\n",
       "      <td>Gill</td>\n",
       "      <td>F</td>\n",
       "      <td>43039 Riley Greens Suite 393</td>\n",
       "      <td>...</td>\n",
       "      <td>48.8878</td>\n",
       "      <td>-118.2105</td>\n",
       "      <td>149</td>\n",
       "      <td>Special educational needs teacher</td>\n",
       "      <td>1978-06-21</td>\n",
       "      <td>1f76529f8574734946361c461b024d99</td>\n",
       "      <td>1325376044</td>\n",
       "      <td>49.159047</td>\n",
       "      <td>-118.186462</td>\n",
       "      <td>0</td>\n",
       "    </tr>\n",
       "    <tr>\n",
       "      <th>2</th>\n",
       "      <td>2</td>\n",
       "      <td>2019-01-01 00:00:51</td>\n",
       "      <td>38859492057661</td>\n",
       "      <td>fraud_Lind-Buckridge</td>\n",
       "      <td>entertainment</td>\n",
       "      <td>220.11</td>\n",
       "      <td>Edward</td>\n",
       "      <td>Sanchez</td>\n",
       "      <td>M</td>\n",
       "      <td>594 White Dale Suite 530</td>\n",
       "      <td>...</td>\n",
       "      <td>42.1808</td>\n",
       "      <td>-112.2620</td>\n",
       "      <td>4154</td>\n",
       "      <td>Nature conservation officer</td>\n",
       "      <td>1962-01-19</td>\n",
       "      <td>a1a22d70485983eac12b5b88dad1cf95</td>\n",
       "      <td>1325376051</td>\n",
       "      <td>43.150704</td>\n",
       "      <td>-112.154481</td>\n",
       "      <td>0</td>\n",
       "    </tr>\n",
       "    <tr>\n",
       "      <th>3</th>\n",
       "      <td>3</td>\n",
       "      <td>2019-01-01 00:01:16</td>\n",
       "      <td>3534093764340240</td>\n",
       "      <td>fraud_Kutch, Hermiston and Farrell</td>\n",
       "      <td>gas_transport</td>\n",
       "      <td>45.00</td>\n",
       "      <td>Jeremy</td>\n",
       "      <td>White</td>\n",
       "      <td>M</td>\n",
       "      <td>9443 Cynthia Court Apt. 038</td>\n",
       "      <td>...</td>\n",
       "      <td>46.2306</td>\n",
       "      <td>-112.1138</td>\n",
       "      <td>1939</td>\n",
       "      <td>Patent attorney</td>\n",
       "      <td>1967-01-12</td>\n",
       "      <td>6b849c168bdad6f867558c3793159a81</td>\n",
       "      <td>1325376076</td>\n",
       "      <td>47.034331</td>\n",
       "      <td>-112.561071</td>\n",
       "      <td>0</td>\n",
       "    </tr>\n",
       "    <tr>\n",
       "      <th>4</th>\n",
       "      <td>4</td>\n",
       "      <td>2019-01-01 00:03:06</td>\n",
       "      <td>375534208663984</td>\n",
       "      <td>fraud_Keeling-Crist</td>\n",
       "      <td>misc_pos</td>\n",
       "      <td>41.96</td>\n",
       "      <td>Tyler</td>\n",
       "      <td>Garcia</td>\n",
       "      <td>M</td>\n",
       "      <td>408 Bradley Rest</td>\n",
       "      <td>...</td>\n",
       "      <td>38.4207</td>\n",
       "      <td>-79.4629</td>\n",
       "      <td>99</td>\n",
       "      <td>Dance movement psychotherapist</td>\n",
       "      <td>1986-03-28</td>\n",
       "      <td>a41d7549acf90789359a9aa5346dcb46</td>\n",
       "      <td>1325376186</td>\n",
       "      <td>38.674999</td>\n",
       "      <td>-78.632459</td>\n",
       "      <td>0</td>\n",
       "    </tr>\n",
       "  </tbody>\n",
       "</table>\n",
       "<p>5 rows × 23 columns</p>\n",
       "</div>"
      ],
      "text/plain": [
       "   Unnamed: 0 trans_date_trans_time            cc_num  \\\n",
       "0           0   2019-01-01 00:00:18  2703186189652095   \n",
       "1           1   2019-01-01 00:00:44      630423337322   \n",
       "2           2   2019-01-01 00:00:51    38859492057661   \n",
       "3           3   2019-01-01 00:01:16  3534093764340240   \n",
       "4           4   2019-01-01 00:03:06   375534208663984   \n",
       "\n",
       "                             merchant       category     amt      first  \\\n",
       "0          fraud_Rippin, Kub and Mann       misc_net    4.97   Jennifer   \n",
       "1     fraud_Heller, Gutmann and Zieme    grocery_pos  107.23  Stephanie   \n",
       "2                fraud_Lind-Buckridge  entertainment  220.11     Edward   \n",
       "3  fraud_Kutch, Hermiston and Farrell  gas_transport   45.00     Jeremy   \n",
       "4                 fraud_Keeling-Crist       misc_pos   41.96      Tyler   \n",
       "\n",
       "      last gender                        street  ...      lat      long  \\\n",
       "0    Banks      F                561 Perry Cove  ...  36.0788  -81.1781   \n",
       "1     Gill      F  43039 Riley Greens Suite 393  ...  48.8878 -118.2105   \n",
       "2  Sanchez      M      594 White Dale Suite 530  ...  42.1808 -112.2620   \n",
       "3    White      M   9443 Cynthia Court Apt. 038  ...  46.2306 -112.1138   \n",
       "4   Garcia      M              408 Bradley Rest  ...  38.4207  -79.4629   \n",
       "\n",
       "   city_pop                                job         dob  \\\n",
       "0      3495          Psychologist, counselling  1988-03-09   \n",
       "1       149  Special educational needs teacher  1978-06-21   \n",
       "2      4154        Nature conservation officer  1962-01-19   \n",
       "3      1939                    Patent attorney  1967-01-12   \n",
       "4        99     Dance movement psychotherapist  1986-03-28   \n",
       "\n",
       "                          trans_num   unix_time  merch_lat  merch_long  \\\n",
       "0  0b242abb623afc578575680df30655b9  1325376018  36.011293  -82.048315   \n",
       "1  1f76529f8574734946361c461b024d99  1325376044  49.159047 -118.186462   \n",
       "2  a1a22d70485983eac12b5b88dad1cf95  1325376051  43.150704 -112.154481   \n",
       "3  6b849c168bdad6f867558c3793159a81  1325376076  47.034331 -112.561071   \n",
       "4  a41d7549acf90789359a9aa5346dcb46  1325376186  38.674999  -78.632459   \n",
       "\n",
       "   is_fraud  \n",
       "0         0  \n",
       "1         0  \n",
       "2         0  \n",
       "3         0  \n",
       "4         0  \n",
       "\n",
       "[5 rows x 23 columns]"
      ]
     },
     "execution_count": 3,
     "metadata": {},
     "output_type": "execute_result"
    }
   ],
   "source": [
    "# combining train and test datasets\n",
    "df_Full_dataset = pd.concat([pd.read_csv('fraudTrain.csv'),pd.read_csv('fraudTest.csv')], ignore_index=True)\n",
    "df_Full_dataset.head()"
   ]
  },
  {
   "cell_type": "markdown",
   "id": "b52c8b01-98f9-46af-837c-d8127bb6308c",
   "metadata": {},
   "source": [
    "After checking both train and test dataset they had simliar number of columns that is 23,so i taught to concate both train and test togther and form a single dataset and name it as (df_Full_dataset)."
   ]
  },
  {
   "cell_type": "markdown",
   "id": "980b9d67-cb0a-4b82-a3fc-5a49752adf20",
   "metadata": {},
   "source": [
    "# Data Cleaning"
   ]
  },
  {
   "cell_type": "code",
   "execution_count": 4,
   "id": "adf63b61-937c-484c-97d9-f37b6ef1f469",
   "metadata": {},
   "outputs": [
    {
     "name": "stdout",
     "output_type": "stream",
     "text": [
      "<class 'pandas.core.frame.DataFrame'>\n",
      "RangeIndex: 1852394 entries, 0 to 1852393\n",
      "Data columns (total 23 columns):\n",
      " #   Column                 Dtype  \n",
      "---  ------                 -----  \n",
      " 0   Unnamed: 0             int64  \n",
      " 1   trans_date_trans_time  object \n",
      " 2   cc_num                 int64  \n",
      " 3   merchant               object \n",
      " 4   category               object \n",
      " 5   amt                    float64\n",
      " 6   first                  object \n",
      " 7   last                   object \n",
      " 8   gender                 object \n",
      " 9   street                 object \n",
      " 10  city                   object \n",
      " 11  state                  object \n",
      " 12  zip                    int64  \n",
      " 13  lat                    float64\n",
      " 14  long                   float64\n",
      " 15  city_pop               int64  \n",
      " 16  job                    object \n",
      " 17  dob                    object \n",
      " 18  trans_num              object \n",
      " 19  unix_time              int64  \n",
      " 20  merch_lat              float64\n",
      " 21  merch_long             float64\n",
      " 22  is_fraud               int64  \n",
      "dtypes: float64(5), int64(6), object(12)\n",
      "memory usage: 325.1+ MB\n"
     ]
    }
   ],
   "source": [
    "#Dataset descriptions\n",
    "df_Full_dataset.info()"
   ]
  },
  {
   "cell_type": "markdown",
   "id": "2c06c0b9-b2c5-4e12-94a2-d53687aab455",
   "metadata": {},
   "source": [
    "As can be seen from the results above,the datatypes of each columns are metioned where out of 23 columns 11 columns are numeric and and 12 columns are categorical columns"
   ]
  },
  {
   "cell_type": "code",
   "execution_count": 5,
   "id": "f3d3a85b-d785-4bc7-875f-244728e292ce",
   "metadata": {},
   "outputs": [
    {
     "data": {
      "text/plain": [
       "0"
      ]
     },
     "execution_count": 5,
     "metadata": {},
     "output_type": "execute_result"
    }
   ],
   "source": [
    "df_Full_dataset.duplicated().sum()"
   ]
  },
  {
   "cell_type": "markdown",
   "id": "52f13720-0dc6-41a1-8b89-fd48341670f8",
   "metadata": {},
   "source": [
    "There is no any duplicate values in the dataset"
   ]
  },
  {
   "cell_type": "code",
   "execution_count": 6,
   "id": "6110b8e3-13fd-4f00-b2e9-c3e78344dc9e",
   "metadata": {},
   "outputs": [
    {
     "data": {
      "text/plain": [
       "Unnamed: 0               0\n",
       "trans_date_trans_time    0\n",
       "cc_num                   0\n",
       "merchant                 0\n",
       "category                 0\n",
       "amt                      0\n",
       "first                    0\n",
       "last                     0\n",
       "gender                   0\n",
       "street                   0\n",
       "city                     0\n",
       "state                    0\n",
       "zip                      0\n",
       "lat                      0\n",
       "long                     0\n",
       "city_pop                 0\n",
       "job                      0\n",
       "dob                      0\n",
       "trans_num                0\n",
       "unix_time                0\n",
       "merch_lat                0\n",
       "merch_long               0\n",
       "is_fraud                 0\n",
       "dtype: int64"
      ]
     },
     "execution_count": 6,
     "metadata": {},
     "output_type": "execute_result"
    }
   ],
   "source": [
    "#check for missing values\n",
    "df_Full_dataset.isnull().sum()"
   ]
  },
  {
   "cell_type": "markdown",
   "id": "bd7d1a53-1ab9-4c29-a9b0-2ae9de8c11f8",
   "metadata": {},
   "source": [
    "As can be seen from the results above, the dataset contains 23 columns and there is no missing data or null value present in the dataset."
   ]
  },
  {
   "cell_type": "markdown",
   "id": "d5208036-8bc7-4989-80b0-ce264c2c7bf3",
   "metadata": {},
   "source": [
    "# Exploratory Data Analysis"
   ]
  },
  {
   "cell_type": "markdown",
   "id": "22e9e825-1845-43ea-a37e-0168dbba6456",
   "metadata": {},
   "source": [
    "1.Category vs Fraud"
   ]
  },
  {
   "cell_type": "markdown",
   "id": "b7ca356d-703c-4bfc-8e40-042df6678597",
   "metadata": {},
   "source": [
    "First,we examine in which spending categories fraud happens most predominantly. To do this, we first calculate the category with the unique value count and saw what is count for top and least categorys.The second we check with Seaborn library which allows you to visualize the relationship between one categorical variable (category in this case) and one numerical variable (amt), with the added dimension of color (hue) representing another categorical variable (is_fraud).However, the fraud is more in categorical column as this will help in predicting more model build with good results."
   ]
  },
  {
   "cell_type": "code",
   "execution_count": 7,
   "id": "f896414a-3aa7-4b3e-8a3f-980790c837ff",
   "metadata": {},
   "outputs": [
    {
     "data": {
      "text/plain": [
       "category\n",
       "gas_transport     188029\n",
       "grocery_pos       176191\n",
       "home              175460\n",
       "shopping_pos      166463\n",
       "kids_pets         161727\n",
       "shopping_net      139322\n",
       "entertainment     134118\n",
       "food_dining       130729\n",
       "personal_care     130085\n",
       "health_fitness    122553\n",
       "misc_pos          114229\n",
       "misc_net           90654\n",
       "grocery_net        64878\n",
       "travel             57956\n",
       "Name: count, dtype: int64"
      ]
     },
     "execution_count": 7,
     "metadata": {},
     "output_type": "execute_result"
    }
   ],
   "source": [
    "#Checking all the categorical column\n",
    "df_Full_dataset['category'].astype('category').value_counts()"
   ]
  },
  {
   "cell_type": "markdown",
   "id": "05d4bae0-c941-40ac-8e3e-3775cc8030eb",
   "metadata": {},
   "source": [
    "The above result tell that how many times each unique category appears in the 'category' column of the DataFrame, after converting it to the categorical data type. This can be useful for understanding the distribution of categories in the column and identifying any potential data quality issues or patterns.The top category is gas_transport with the value count if 188029 and with least count is travel.  "
   ]
  },
  {
   "cell_type": "code",
   "execution_count": 8,
   "id": "77ccc749-e53f-4f7a-9592-943af1688341",
   "metadata": {
    "scrolled": true
   },
   "outputs": [
    {
     "name": "stderr",
     "output_type": "stream",
     "text": [
      "D:\\Bharath_Anconda\\Lib\\site-packages\\seaborn\\_oldcore.py:1119: FutureWarning: use_inf_as_na option is deprecated and will be removed in a future version. Convert inf values to NaN before operating instead.\n",
      "  with pd.option_context('mode.use_inf_as_na', True):\n",
      "D:\\Bharath_Anconda\\Lib\\site-packages\\seaborn\\_oldcore.py:1119: FutureWarning: use_inf_as_na option is deprecated and will be removed in a future version. Convert inf values to NaN before operating instead.\n",
      "  with pd.option_context('mode.use_inf_as_na', True):\n"
     ]
    },
    {
     "data": {
      "text/plain": [
       "<seaborn.axisgrid.FacetGrid at 0x2c40653c3d0>"
      ]
     },
     "execution_count": 8,
     "metadata": {},
     "output_type": "execute_result"
    },
    {
     "data": {
      "image/png": "[encoded data removed]",
      "text/plain": [
       "<Figure size 1066.11x500 with 1 Axes>"
      ]
     },
     "metadata": {},
     "output_type": "display_data"
    }
   ],
   "source": [
    "#plot to check the for which category the faurd is more\n",
    "sns.catplot(x='amt',y='category',data=df_Full_dataset,hue='is_fraud',aspect=2)"
   ]
  },
  {
   "cell_type": "markdown",
   "id": "2cb5a71c-ac9a-4079-88c1-b0347ddf8b9d",
   "metadata": {},
   "source": [
    "As can be seen from the results above, Some categories indeed see more fraud than others! Fraud tends to happen more often in 'Shopping_net', 'Grocery_pos', 'misc_net',entertainmentand gas_transport while 'home' and 'kids_pets' among others tend to see more normal transactions than fraudulent ones."
   ]
  },
  {
   "cell_type": "markdown",
   "id": "5d794219-a8aa-4b4c-a8c8-b19d6fced8e3",
   "metadata": {},
   "source": [
    "2. Gender vs Fraud"
   ]
  },
  {
   "cell_type": "markdown",
   "id": "77f6e018-9d93-416f-8856-04ffcb1bde6e",
   "metadata": {},
   "source": [
    "Second, we'll look at whether one gender is more vulnerable to fraud than the other.I checked with three steps one checked with unique count of values of female and Male.The next step was in pie chart to plot a grap and check with the percntage of genders distributed and finial step is checking of genders with fraud column whether which gender is more towords the fradulatent activitys."
   ]
  },
  {
   "cell_type": "code",
   "execution_count": 9,
   "id": "ba78f9db-4a50-4848-8bee-d80a6fd97129",
   "metadata": {},
   "outputs": [
    {
     "data": {
      "text/plain": [
       "gender\n",
       "F    1014749\n",
       "M     837645\n",
       "Name: count, dtype: int64"
      ]
     },
     "execution_count": 9,
     "metadata": {},
     "output_type": "execute_result"
    }
   ],
   "source": [
    "#Checking all the categorical column\n",
    "df_Full_dataset['gender'].astype('category').value_counts()"
   ]
  },
  {
   "cell_type": "markdown",
   "id": "befc7716-9c48-43bd-8c99-4aa9d89ce1a6",
   "metadata": {},
   "source": [
    "from each unique category appears in the 'gender' column of the DataFrame, after converting it to the categorical data type. This can be useful for understanding the distribution of gender in the column and identifying any potential data quality issues or patterns.The number of each value of genders where Female is having value count of 1014749 and male is around 837645."
   ]
  },
  {
   "cell_type": "code",
   "execution_count": 10,
   "id": "d45e2b75-3aa9-4dc6-b3a5-29d1c0653406",
   "metadata": {},
   "outputs": [
    {
     "data": {
      "image/png": "[encoded data removed]",
      "text/plain": [
       "<Figure size 640x480 with 1 Axes>"
      ]
     },
     "metadata": {},
     "output_type": "display_data"
    }
   ],
   "source": [
    "#Showing plot for the gender\n",
    "plt.pie(df_Full_dataset[\"gender\"].value_counts(), labels=df_Full_dataset[\"gender\"].unique(), autopct=\"%.2f\")\n",
    "plt.show()"
   ]
  },
  {
   "cell_type": "markdown",
   "id": "3d3c5af9-dfec-4100-ac02-33488486977e",
   "metadata": {},
   "source": [
    "With each segment representing a gender category and the size of each segment proportionate to the count of that gender category in the dataset, the resulting pie chart visually shows the distribution of genders in the dataset. On the matching section of the pie chart, the proportion of each gender category is also shown 54.78% of the percentage is female, and 45.22% is male.\n"
   ]
  },
  {
   "cell_type": "code",
   "execution_count": 11,
   "id": "40feebf2-a21d-41a7-9444-6f1457d6aa8b",
   "metadata": {},
   "outputs": [
    {
     "name": "stderr",
     "output_type": "stream",
     "text": [
      "D:\\Bharath_Anconda\\Lib\\site-packages\\seaborn\\_oldcore.py:1119: FutureWarning: use_inf_as_na option is deprecated and will be removed in a future version. Convert inf values to NaN before operating instead.\n",
      "  with pd.option_context('mode.use_inf_as_na', True):\n"
     ]
    },
    {
     "data": {
      "text/plain": [
       "<matplotlib.legend.Legend at 0x2c42bb00c90>"
      ]
     },
     "execution_count": 11,
     "metadata": {},
     "output_type": "execute_result"
    },
    {
     "data": {
      "image/png": "[encoded data removed]",
      "text/plain": [
       "<Figure size 640x480 with 1 Axes>"
      ]
     },
     "metadata": {},
     "output_type": "display_data"
    }
   ],
   "source": [
    "#Gender vs Fraud\n",
    "ax=sns.histplot(x='gender',data=df_Full_dataset, hue='is_fraud',stat='percent',multiple='dodge',common_norm=False)\n",
    "ax.set_ylabel('Percentage')\n",
    "ax.set_xlabel('Credit Card Holder Gender')\n",
    "plt.legend(title='Type', labels=['Fraud', 'Not Fraud'])"
   ]
  },
  {
   "cell_type": "markdown",
   "id": "79a648d4-16f8-4387-9780-24eb092eeaac",
   "metadata": {},
   "source": [
    "By looking into the bar plot  we do not see a clear difference between both genders. Data seem to suggest that females and males are almost equally susceptible (50%) to transaction fraud."
   ]
  },
  {
   "cell_type": "markdown",
   "id": "013f8464-81e7-4e42-8442-8c74e2136b7d",
   "metadata": {},
   "source": [
    "3.State vs Fraud"
   ]
  },
  {
   "cell_type": "markdown",
   "id": "ad310296-7e7d-414e-baa1-dffc5d0a0ee3",
   "metadata": {},
   "source": [
    "You can see how fraudulent and non-fraudulent transactions are distributed around the states in this visualization, which gives you an idea of how common fraud is in each one."
   ]
  },
  {
   "cell_type": "code",
   "execution_count": 12,
   "id": "5a004c04-0ab8-4f8c-88ea-565dabb9c55a",
   "metadata": {},
   "outputs": [
    {
     "name": "stderr",
     "output_type": "stream",
     "text": [
      "D:\\Bharath_Anconda\\Lib\\site-packages\\seaborn\\_oldcore.py:1119: FutureWarning: use_inf_as_na option is deprecated and will be removed in a future version. Convert inf values to NaN before operating instead.\n",
      "  with pd.option_context('mode.use_inf_as_na', True):\n"
     ]
    },
    {
     "data": {
      "image/png": "[encoded data removed]",
      "text/plain": [
       "<Figure size 2000x1000 with 1 Axes>"
      ]
     },
     "metadata": {},
     "output_type": "display_data"
    }
   ],
   "source": [
    "# State vs fraud\n",
    "f, ax = plt.subplots(figsize=(20, 10))\n",
    "ax=sns.histplot(x='state',data=df_Full_dataset, hue='is_fraud',stat='percent',multiple='dodge',common_norm=False)\n",
    "plt.xticks(rotation=90)\n",
    "plt.legend(title='Type', labels=['Fraud', 'Not Fraud'])\n",
    "plt.show();\n",
    "\n"
   ]
  },
  {
   "cell_type": "markdown",
   "id": "d27cde33-1c1b-41e4-aefa-47448bb734a0",
   "metadata": {},
   "source": [
    "From the plot above,we can see the top three fraud in state the highest fraud happening place NY and second higest is Tx and third higest is VA among others have a higher percentage of fraudulent transactions than normal ones. However, it should be pointed out that the percentage differences in those states are not very significant but a correlation does exist."
   ]
  },
  {
   "cell_type": "markdown",
   "id": "ddee1588-d6ac-4e2d-9249-fc017041890b",
   "metadata": {},
   "source": [
    "4.job vs Fraud"
   ]
  },
  {
   "cell_type": "markdown",
   "id": "c4092a8b-a7c2-43e6-83e8-d1cd0b382370",
   "metadata": {},
   "source": [
    "In this code will create a pivot table where each row represents a job type, and the columns represent the count of fraudulent and non-fraudulent transactions for each job type. The table is sorted by the total number of transactions (fraudulent + non-fraudulent).By checking this table we can compare the distribution of fraudulent and non-fraudulent transactions across different job types."
   ]
  },
  {
   "cell_type": "code",
   "execution_count": 15,
   "id": "f0cdb162-27df-43f5-abcb-aaa8917e3c69",
   "metadata": {},
   "outputs": [
    {
     "name": "stdout",
     "output_type": "stream",
     "text": [
      "Job sectors with counts of fraudulent and non-fraudulent transactions:\n",
      "                            Non-Fraudulent  Fraudulent\n",
      "job                                                   \n",
      "Film/video editor                    13846          52\n",
      "Exhibition designer                  13116          51\n",
      "Surveyor, land/geomatics             12386          50\n",
      "Naval architect                      12368          66\n",
      "Materials engineer                   11649          62\n",
      "...                                    ...         ...\n",
      "Engineer, water                          0           8\n",
      "Veterinary surgeon                       0           8\n",
      "Warehouse manager                        0           7\n",
      "Ship broker                              0           7\n",
      "Contracting civil engineer               0           7\n",
      "\n",
      "[497 rows x 2 columns]\n"
     ]
    }
   ],
   "source": [
    "# Create a pivot table to calculate the count of fraudulent and non-fraudulent transactions for each job type\n",
    "job_fraud_counts = df_Full_dataset.pivot_table(index='job', columns='is_fraud', aggfunc='size', fill_value=0)\n",
    "\n",
    "# Rename columns for clarity\n",
    "job_fraud_counts.columns = ['Non-Fraudulent', 'Fraudulent']\n",
    "\n",
    "# Sort the pivot table by the total number of transactions (sum of fraudulent and non-fraudulent)\n",
    "job_fraud_counts['Total'] = job_fraud_counts.sum(axis=1)\n",
    "job_fraud_counts = job_fraud_counts.sort_values(by='Total', ascending=False)\n",
    "\n",
    "# Drop the 'Total' column after sorting\n",
    "job_fraud_counts.drop(columns='Total', inplace=True)\n",
    "\n",
    "# Display the pivot table sorted by the count of fraudulent transactions in descending order\n",
    "print(\"Job sectors with counts of fraudulent and non-fraudulent transactions:\")\n",
    "print(job_fraud_counts)\n"
   ]
  },
  {
   "cell_type": "markdown",
   "id": "d4b8aa3b-0fd4-4bcf-904c-31ead431e4e8",
   "metadata": {},
   "source": [
    "The table displays,the counts of fraudulent and non-fraudulent transactions for various job sector,ranging from highest to lowest, we can see the top five job sectors where were majority of Fraudulent are First one is Quantity surveyor the number of Fraudulent is 69 , the second is Naval architect the number of Fraudulent is 66 and third is Materials engineer the number of Fraudulent is 62 and the least happing is Engineer, communications the number of Fraudulent is 0."
   ]
  },
  {
   "cell_type": "markdown",
   "id": "8ccce8c4-b4c3-43ac-86f0-30f067336ce6",
   "metadata": {},
   "source": [
    "5.Amount vs Fraud"
   ]
  },
  {
   "cell_type": "markdown",
   "id": "2b90da56-23f7-4d11-b7d0-eb53133588f9",
   "metadata": {},
   "source": [
    "we tried a box plot where each box represents the distribution of transaction amount for fraudulent and non-fraudulent transactions. The x-axis represents the transaction type ('Not Fraud' and 'Fraud'), and the y-axis represents the transaction amount in USD. Box plots are useful for visualizing the central tendency, spread, and skewness of the distribution of transaction amounts for each transaction type."
   ]
  },
  {
   "cell_type": "code",
   "execution_count": 16,
   "id": "cea2a7e1-d959-475d-8028-f9498b42d732",
   "metadata": {},
   "outputs": [
    {
     "data": {
      "image/png": "[encoded data removed]",
      "text/plain": [
       "<Figure size 1000x600 with 1 Axes>"
      ]
     },
     "metadata": {},
     "output_type": "display_data"
    }
   ],
   "source": [
    "# Create a violin plot to visualize the distribution of transaction amount for fraudulent and non-fraudulent transactions\n",
    "plt.figure(figsize=(10, 6))\n",
    "sns.violinplot(x='is_fraud', y='amt', data=df_Full_dataset[df_Full_dataset.amt <= 1000], inner='quartile')\n",
    "plt.xlabel('Type')\n",
    "plt.ylabel('Transaction Amount in USD')\n",
    "plt.title('Distribution of Transaction Amount for Fraudulent and Non-Fraudulent Transactions')\n",
    "plt.xticks(ticks=[0, 1], labels=['Not Fraud', 'Fraud'])\n",
    "plt.show()"
   ]
  },
  {
   "cell_type": "markdown",
   "id": "99ebc910-cf3c-46e9-bea6-decbcd2dc01c",
   "metadata": {},
   "source": [
    "The right side shows fraudulent transactions. The shape is more elongated and straight, and there are two bulges, suggesting that two different amounts are more common for fraudulent transactions. Like the non-fraudulent distribution, it also has dotted lines representing quartiles and a median, which appears to be higher compared to non-fraudulent transactions.so there is fraud happing more in this amount column more."
   ]
  },
  {
   "cell_type": "markdown",
   "id": "5febedc6-42fd-4e55-864e-ab4c68c74ff1",
   "metadata": {},
   "source": [
    "# Feature Engineering"
   ]
  },
  {
   "cell_type": "code",
   "execution_count": 17,
   "id": "c9cbffa5-24e1-4e51-be8e-30c3c6fa6c13",
   "metadata": {},
   "outputs": [],
   "source": [
    "from sklearn.preprocessing import OrdinalEncoder\n",
    "enc = OrdinalEncoder()\n",
    "enc.fit(df_Full_dataset[[\"Unnamed: 0\",\"category\",\"gender\", \"city\", \"state\", \"job\", \"dob\",'trans_date_trans_time', 'cc_num', 'merchant', 'first', 'last', 'street', 'zip', 'lat', 'long', 'trans_num', 'unix_time', 'merch_lat', 'merch_long']])\n",
    "df_Full_dataset[[\"Unnamed: 0\",\"category\",\"gender\", \"city\", \"state\", \"job\", \"dob\",'trans_date_trans_time', 'cc_num', 'merchant', 'first', 'last', 'street', 'zip', 'lat', 'long', 'trans_num', 'unix_time', 'merch_lat', 'merch_long']] = enc.transform(df_Full_dataset[[\"Unnamed: 0\",\"category\",\"gender\", \"city\", \"state\", \"job\", \"dob\",'trans_date_trans_time', 'cc_num', 'merchant', 'first', 'last', 'street', 'zip', 'lat', 'long', 'trans_num', 'unix_time', 'merch_lat', 'merch_long']])"
   ]
  },
  {
   "cell_type": "markdown",
   "id": "6c2fd7de-b086-4e64-9399-b66a7cc3bf56",
   "metadata": {},
   "source": [
    "So after doing all the EDA wanted to check all the columns whether there is any direct relationship btween the the target coulmn (is_fraud).so i did Ordinal encoding where this method used to convert categorical variables into numerical representations.After performing ordinal encoding for all columns, you're essentially assigning numerical values to categorical variables in a way that preserves their ordinal relationship.By analyzing the correlation matrix and correlation coefficients, you can gain insights into the relationships between the target column and other columns in the dataset."
   ]
  },
  {
   "cell_type": "code",
   "execution_count": 18,
   "id": "23e9e41a-e353-4bf8-85ce-885ba06e3d8d",
   "metadata": {},
   "outputs": [
    {
     "data": {
      "text/html": [
       "<div>\n",
       "<style scoped>\n",
       "    .dataframe tbody tr th:only-of-type {\n",
       "        vertical-align: middle;\n",
       "    }\n",
       "\n",
       "    .dataframe tbody tr th {\n",
       "        vertical-align: top;\n",
       "    }\n",
       "\n",
       "    .dataframe thead th {\n",
       "        text-align: right;\n",
       "    }\n",
       "</style>\n",
       "<table border=\"1\" class=\"dataframe\">\n",
       "  <thead>\n",
       "    <tr style=\"text-align: right;\">\n",
       "      <th></th>\n",
       "      <th>Unnamed: 0</th>\n",
       "      <th>trans_date_trans_time</th>\n",
       "      <th>cc_num</th>\n",
       "      <th>merchant</th>\n",
       "      <th>category</th>\n",
       "      <th>amt</th>\n",
       "      <th>first</th>\n",
       "      <th>last</th>\n",
       "      <th>gender</th>\n",
       "      <th>street</th>\n",
       "      <th>...</th>\n",
       "      <th>lat</th>\n",
       "      <th>long</th>\n",
       "      <th>city_pop</th>\n",
       "      <th>job</th>\n",
       "      <th>dob</th>\n",
       "      <th>trans_num</th>\n",
       "      <th>unix_time</th>\n",
       "      <th>merch_lat</th>\n",
       "      <th>merch_long</th>\n",
       "      <th>is_fraud</th>\n",
       "    </tr>\n",
       "  </thead>\n",
       "  <tbody>\n",
       "    <tr>\n",
       "      <th>0</th>\n",
       "      <td>0.0</td>\n",
       "      <td>0.0</td>\n",
       "      <td>454.0</td>\n",
       "      <td>514.0</td>\n",
       "      <td>8.0</td>\n",
       "      <td>4.97</td>\n",
       "      <td>164.0</td>\n",
       "      <td>18.0</td>\n",
       "      <td>0.0</td>\n",
       "      <td>576.0</td>\n",
       "      <td>...</td>\n",
       "      <td>295.0</td>\n",
       "      <td>704.0</td>\n",
       "      <td>3495</td>\n",
       "      <td>372.0</td>\n",
       "      <td>791.0</td>\n",
       "      <td>80326.0</td>\n",
       "      <td>0.0</td>\n",
       "      <td>550600.0</td>\n",
       "      <td>1223201.0</td>\n",
       "      <td>0</td>\n",
       "    </tr>\n",
       "    <tr>\n",
       "      <th>1</th>\n",
       "      <td>1.0</td>\n",
       "      <td>1.0</td>\n",
       "      <td>44.0</td>\n",
       "      <td>241.0</td>\n",
       "      <td>4.0</td>\n",
       "      <td>107.23</td>\n",
       "      <td>312.0</td>\n",
       "      <td>161.0</td>\n",
       "      <td>0.0</td>\n",
       "      <td>439.0</td>\n",
       "      <td>...</td>\n",
       "      <td>978.0</td>\n",
       "      <td>62.0</td>\n",
       "      <td>149</td>\n",
       "      <td>431.0</td>\n",
       "      <td>619.0</td>\n",
       "      <td>227462.0</td>\n",
       "      <td>1.0</td>\n",
       "      <td>1745263.0</td>\n",
       "      <td>110910.0</td>\n",
       "      <td>0</td>\n",
       "    </tr>\n",
       "    <tr>\n",
       "      <th>2</th>\n",
       "      <td>2.0</td>\n",
       "      <td>2.0</td>\n",
       "      <td>241.0</td>\n",
       "      <td>390.0</td>\n",
       "      <td>0.0</td>\n",
       "      <td>220.11</td>\n",
       "      <td>116.0</td>\n",
       "      <td>386.0</td>\n",
       "      <td>1.0</td>\n",
       "      <td>610.0</td>\n",
       "      <td>...</td>\n",
       "      <td>747.0</td>\n",
       "      <td>90.0</td>\n",
       "      <td>4154</td>\n",
       "      <td>308.0</td>\n",
       "      <td>309.0</td>\n",
       "      <td>1169030.0</td>\n",
       "      <td>2.0</td>\n",
       "      <td>1451077.0</td>\n",
       "      <td>169563.0</td>\n",
       "      <td>0</td>\n",
       "    </tr>\n",
       "    <tr>\n",
       "      <th>3</th>\n",
       "      <td>3.0</td>\n",
       "      <td>3.0</td>\n",
       "      <td>519.0</td>\n",
       "      <td>360.0</td>\n",
       "      <td>2.0</td>\n",
       "      <td>45.00</td>\n",
       "      <td>165.0</td>\n",
       "      <td>468.0</td>\n",
       "      <td>1.0</td>\n",
       "      <td>945.0</td>\n",
       "      <td>...</td>\n",
       "      <td>944.0</td>\n",
       "      <td>93.0</td>\n",
       "      <td>1939</td>\n",
       "      <td>330.0</td>\n",
       "      <td>405.0</td>\n",
       "      <td>777909.0</td>\n",
       "      <td>3.0</td>\n",
       "      <td>1697797.0</td>\n",
       "      <td>164676.0</td>\n",
       "      <td>0</td>\n",
       "    </tr>\n",
       "    <tr>\n",
       "      <th>4</th>\n",
       "      <td>4.0</td>\n",
       "      <td>4.0</td>\n",
       "      <td>377.0</td>\n",
       "      <td>297.0</td>\n",
       "      <td>9.0</td>\n",
       "      <td>41.96</td>\n",
       "      <td>339.0</td>\n",
       "      <td>153.0</td>\n",
       "      <td>1.0</td>\n",
       "      <td>422.0</td>\n",
       "      <td>...</td>\n",
       "      <td>405.0</td>\n",
       "      <td>764.0</td>\n",
       "      <td>99</td>\n",
       "      <td>116.0</td>\n",
       "      <td>746.0</td>\n",
       "      <td>1186866.0</td>\n",
       "      <td>4.0</td>\n",
       "      <td>787219.0</td>\n",
       "      <td>1458121.0</td>\n",
       "      <td>0</td>\n",
       "    </tr>\n",
       "    <tr>\n",
       "      <th>...</th>\n",
       "      <td>...</td>\n",
       "      <td>...</td>\n",
       "      <td>...</td>\n",
       "      <td>...</td>\n",
       "      <td>...</td>\n",
       "      <td>...</td>\n",
       "      <td>...</td>\n",
       "      <td>...</td>\n",
       "      <td>...</td>\n",
       "      <td>...</td>\n",
       "      <td>...</td>\n",
       "      <td>...</td>\n",
       "      <td>...</td>\n",
       "      <td>...</td>\n",
       "      <td>...</td>\n",
       "      <td>...</td>\n",
       "      <td>...</td>\n",
       "      <td>...</td>\n",
       "      <td>...</td>\n",
       "      <td>...</td>\n",
       "      <td>...</td>\n",
       "    </tr>\n",
       "    <tr>\n",
       "      <th>1852389</th>\n",
       "      <td>555714.0</td>\n",
       "      <td>1819546.0</td>\n",
       "      <td>215.0</td>\n",
       "      <td>507.0</td>\n",
       "      <td>5.0</td>\n",
       "      <td>43.77</td>\n",
       "      <td>245.0</td>\n",
       "      <td>323.0</td>\n",
       "      <td>1.0</td>\n",
       "      <td>573.0</td>\n",
       "      <td>...</td>\n",
       "      <td>588.0</td>\n",
       "      <td>364.0</td>\n",
       "      <td>519</td>\n",
       "      <td>477.0</td>\n",
       "      <td>386.0</td>\n",
       "      <td>1122239.0</td>\n",
       "      <td>1819578.0</td>\n",
       "      <td>978166.0</td>\n",
       "      <td>715433.0</td>\n",
       "      <td>0</td>\n",
       "    </tr>\n",
       "    <tr>\n",
       "      <th>1852390</th>\n",
       "      <td>555715.0</td>\n",
       "      <td>1819547.0</td>\n",
       "      <td>561.0</td>\n",
       "      <td>264.0</td>\n",
       "      <td>7.0</td>\n",
       "      <td>111.84</td>\n",
       "      <td>180.0</td>\n",
       "      <td>438.0</td>\n",
       "      <td>1.0</td>\n",
       "      <td>583.0</td>\n",
       "      <td>...</td>\n",
       "      <td>35.0</td>\n",
       "      <td>281.0</td>\n",
       "      <td>28739</td>\n",
       "      <td>207.0</td>\n",
       "      <td>961.0</td>\n",
       "      <td>235369.0</td>\n",
       "      <td>1819579.0</td>\n",
       "      <td>88053.0</td>\n",
       "      <td>495569.0</td>\n",
       "      <td>0</td>\n",
       "    </tr>\n",
       "    <tr>\n",
       "      <th>1852391</th>\n",
       "      <td>555716.0</td>\n",
       "      <td>1819548.0</td>\n",
       "      <td>858.0</td>\n",
       "      <td>496.0</td>\n",
       "      <td>7.0</td>\n",
       "      <td>86.88</td>\n",
       "      <td>19.0</td>\n",
       "      <td>243.0</td>\n",
       "      <td>0.0</td>\n",
       "      <td>138.0</td>\n",
       "      <td>...</td>\n",
       "      <td>943.0</td>\n",
       "      <td>55.0</td>\n",
       "      <td>3684</td>\n",
       "      <td>307.0</td>\n",
       "      <td>669.0</td>\n",
       "      <td>783898.0</td>\n",
       "      <td>1819580.0</td>\n",
       "      <td>1686654.0</td>\n",
       "      <td>87693.0</td>\n",
       "      <td>0</td>\n",
       "    </tr>\n",
       "    <tr>\n",
       "      <th>1852392</th>\n",
       "      <td>555717.0</td>\n",
       "      <td>1819549.0</td>\n",
       "      <td>85.0</td>\n",
       "      <td>75.0</td>\n",
       "      <td>13.0</td>\n",
       "      <td>7.99</td>\n",
       "      <td>120.0</td>\n",
       "      <td>351.0</td>\n",
       "      <td>1.0</td>\n",
       "      <td>711.0</td>\n",
       "      <td>...</td>\n",
       "      <td>893.0</td>\n",
       "      <td>80.0</td>\n",
       "      <td>129</td>\n",
       "      <td>63.0</td>\n",
       "      <td>383.0</td>\n",
       "      <td>145946.0</td>\n",
       "      <td>1819581.0</td>\n",
       "      <td>1571421.0</td>\n",
       "      <td>134541.0</td>\n",
       "      <td>0</td>\n",
       "    </tr>\n",
       "    <tr>\n",
       "      <th>1852393</th>\n",
       "      <td>555718.0</td>\n",
       "      <td>1819550.0</td>\n",
       "      <td>674.0</td>\n",
       "      <td>125.0</td>\n",
       "      <td>0.0</td>\n",
       "      <td>38.13</td>\n",
       "      <td>293.0</td>\n",
       "      <td>148.0</td>\n",
       "      <td>1.0</td>\n",
       "      <td>838.0</td>\n",
       "      <td>...</td>\n",
       "      <td>276.0</td>\n",
       "      <td>218.0</td>\n",
       "      <td>116001</td>\n",
       "      <td>289.0</td>\n",
       "      <td>873.0</td>\n",
       "      <td>169136.0</td>\n",
       "      <td>1819582.0</td>\n",
       "      <td>565192.0</td>\n",
       "      <td>450378.0</td>\n",
       "      <td>0</td>\n",
       "    </tr>\n",
       "  </tbody>\n",
       "</table>\n",
       "<p>1852394 rows × 23 columns</p>\n",
       "</div>"
      ],
      "text/plain": [
       "         Unnamed: 0  trans_date_trans_time  cc_num  merchant  category  \\\n",
       "0               0.0                    0.0   454.0     514.0       8.0   \n",
       "1               1.0                    1.0    44.0     241.0       4.0   \n",
       "2               2.0                    2.0   241.0     390.0       0.0   \n",
       "3               3.0                    3.0   519.0     360.0       2.0   \n",
       "4               4.0                    4.0   377.0     297.0       9.0   \n",
       "...             ...                    ...     ...       ...       ...   \n",
       "1852389    555714.0              1819546.0   215.0     507.0       5.0   \n",
       "1852390    555715.0              1819547.0   561.0     264.0       7.0   \n",
       "1852391    555716.0              1819548.0   858.0     496.0       7.0   \n",
       "1852392    555717.0              1819549.0    85.0      75.0      13.0   \n",
       "1852393    555718.0              1819550.0   674.0     125.0       0.0   \n",
       "\n",
       "            amt  first   last  gender  street  ...    lat   long  city_pop  \\\n",
       "0          4.97  164.0   18.0     0.0   576.0  ...  295.0  704.0      3495   \n",
       "1        107.23  312.0  161.0     0.0   439.0  ...  978.0   62.0       149   \n",
       "2        220.11  116.0  386.0     1.0   610.0  ...  747.0   90.0      4154   \n",
       "3         45.00  165.0  468.0     1.0   945.0  ...  944.0   93.0      1939   \n",
       "4         41.96  339.0  153.0     1.0   422.0  ...  405.0  764.0        99   \n",
       "...         ...    ...    ...     ...     ...  ...    ...    ...       ...   \n",
       "1852389   43.77  245.0  323.0     1.0   573.0  ...  588.0  364.0       519   \n",
       "1852390  111.84  180.0  438.0     1.0   583.0  ...   35.0  281.0     28739   \n",
       "1852391   86.88   19.0  243.0     0.0   138.0  ...  943.0   55.0      3684   \n",
       "1852392    7.99  120.0  351.0     1.0   711.0  ...  893.0   80.0       129   \n",
       "1852393   38.13  293.0  148.0     1.0   838.0  ...  276.0  218.0    116001   \n",
       "\n",
       "           job    dob  trans_num  unix_time  merch_lat  merch_long  is_fraud  \n",
       "0        372.0  791.0    80326.0        0.0   550600.0   1223201.0         0  \n",
       "1        431.0  619.0   227462.0        1.0  1745263.0    110910.0         0  \n",
       "2        308.0  309.0  1169030.0        2.0  1451077.0    169563.0         0  \n",
       "3        330.0  405.0   777909.0        3.0  1697797.0    164676.0         0  \n",
       "4        116.0  746.0  1186866.0        4.0   787219.0   1458121.0         0  \n",
       "...        ...    ...        ...        ...        ...         ...       ...  \n",
       "1852389  477.0  386.0  1122239.0  1819578.0   978166.0    715433.0         0  \n",
       "1852390  207.0  961.0   235369.0  1819579.0    88053.0    495569.0         0  \n",
       "1852391  307.0  669.0   783898.0  1819580.0  1686654.0     87693.0         0  \n",
       "1852392   63.0  383.0   145946.0  1819581.0  1571421.0    134541.0         0  \n",
       "1852393  289.0  873.0   169136.0  1819582.0   565192.0    450378.0         0  \n",
       "\n",
       "[1852394 rows x 23 columns]"
      ]
     },
     "execution_count": 18,
     "metadata": {},
     "output_type": "execute_result"
    }
   ],
   "source": [
    "df_Full_dataset"
   ]
  },
  {
   "cell_type": "markdown",
   "id": "3a35b6f6-9ee4-459e-8a2e-e9f26741e682",
   "metadata": {},
   "source": [
    "After Performing the Ordinal encoding where this method used to convert categorical variables into numerical representations for all the columns in the dataset."
   ]
  },
  {
   "cell_type": "code",
   "execution_count": 19,
   "id": "9bcffb85-e2c7-4f22-babd-06c852ef37d2",
   "metadata": {},
   "outputs": [
    {
     "data": {
      "image/png": "[encoded data removed]",
      "text/plain": [
       "<Figure size 640x480 with 2 Axes>"
      ]
     },
     "metadata": {},
     "output_type": "display_data"
    }
   ],
   "source": [
    "#Check corr between numeric values\n",
    "sns.heatmap(df_Full_dataset.select_dtypes(include='number').corr(),\n",
    "            annot=None,cmap='coolwarm',fmt='.2f',linewidths=0.5,cbar_kws={\"shrink\": 0.8})\n",
    "plt.title('Correlation Matrix')\n",
    "plt.show()"
   ]
  },
  {
   "cell_type": "markdown",
   "id": "296c05de-8326-496f-abf7-0cb898a7c163",
   "metadata": {},
   "source": [
    "By analyzing the correlation matrix and correlation coefficients, you can gain insights into the relationships between the target column and other columns in the dataset.From the above matrix you see the target column is_fraud is very less correlated with all other columns."
   ]
  },
  {
   "cell_type": "code",
   "execution_count": 20,
   "id": "1414f2ec-16a6-4458-a89d-58cc72dec199",
   "metadata": {},
   "outputs": [
    {
     "data": {
      "text/html": [
       "<div>\n",
       "<style scoped>\n",
       "    .dataframe tbody tr th:only-of-type {\n",
       "        vertical-align: middle;\n",
       "    }\n",
       "\n",
       "    .dataframe tbody tr th {\n",
       "        vertical-align: top;\n",
       "    }\n",
       "\n",
       "    .dataframe thead th {\n",
       "        text-align: right;\n",
       "    }\n",
       "</style>\n",
       "<table border=\"1\" class=\"dataframe\">\n",
       "  <thead>\n",
       "    <tr style=\"text-align: right;\">\n",
       "      <th></th>\n",
       "      <th>category</th>\n",
       "      <th>amt</th>\n",
       "      <th>gender</th>\n",
       "      <th>city</th>\n",
       "      <th>state</th>\n",
       "      <th>city_pop</th>\n",
       "      <th>job</th>\n",
       "      <th>dob</th>\n",
       "      <th>is_fraud</th>\n",
       "    </tr>\n",
       "  </thead>\n",
       "  <tbody>\n",
       "    <tr>\n",
       "      <th>0</th>\n",
       "      <td>8.0</td>\n",
       "      <td>4.97</td>\n",
       "      <td>0.0</td>\n",
       "      <td>532.0</td>\n",
       "      <td>27.0</td>\n",
       "      <td>3495</td>\n",
       "      <td>372.0</td>\n",
       "      <td>791.0</td>\n",
       "      <td>0</td>\n",
       "    </tr>\n",
       "    <tr>\n",
       "      <th>1</th>\n",
       "      <td>4.0</td>\n",
       "      <td>107.23</td>\n",
       "      <td>0.0</td>\n",
       "      <td>619.0</td>\n",
       "      <td>47.0</td>\n",
       "      <td>149</td>\n",
       "      <td>431.0</td>\n",
       "      <td>619.0</td>\n",
       "      <td>0</td>\n",
       "    </tr>\n",
       "    <tr>\n",
       "      <th>2</th>\n",
       "      <td>0.0</td>\n",
       "      <td>220.11</td>\n",
       "      <td>1.0</td>\n",
       "      <td>474.0</td>\n",
       "      <td>13.0</td>\n",
       "      <td>4154</td>\n",
       "      <td>308.0</td>\n",
       "      <td>309.0</td>\n",
       "      <td>0</td>\n",
       "    </tr>\n",
       "    <tr>\n",
       "      <th>3</th>\n",
       "      <td>2.0</td>\n",
       "      <td>45.00</td>\n",
       "      <td>1.0</td>\n",
       "      <td>84.0</td>\n",
       "      <td>26.0</td>\n",
       "      <td>1939</td>\n",
       "      <td>330.0</td>\n",
       "      <td>405.0</td>\n",
       "      <td>0</td>\n",
       "    </tr>\n",
       "    <tr>\n",
       "      <th>4</th>\n",
       "      <td>9.0</td>\n",
       "      <td>41.96</td>\n",
       "      <td>1.0</td>\n",
       "      <td>217.0</td>\n",
       "      <td>45.0</td>\n",
       "      <td>99</td>\n",
       "      <td>116.0</td>\n",
       "      <td>746.0</td>\n",
       "      <td>0</td>\n",
       "    </tr>\n",
       "  </tbody>\n",
       "</table>\n",
       "</div>"
      ],
      "text/plain": [
       "   category     amt  gender   city  state  city_pop    job    dob  is_fraud\n",
       "0       8.0    4.97     0.0  532.0   27.0      3495  372.0  791.0         0\n",
       "1       4.0  107.23     0.0  619.0   47.0       149  431.0  619.0         0\n",
       "2       0.0  220.11     1.0  474.0   13.0      4154  308.0  309.0         0\n",
       "3       2.0   45.00     1.0   84.0   26.0      1939  330.0  405.0         0\n",
       "4       9.0   41.96     1.0  217.0   45.0        99  116.0  746.0         0"
      ]
     },
     "execution_count": 20,
     "metadata": {},
     "output_type": "execute_result"
    }
   ],
   "source": [
    "#Dropping all the unwanted column\n",
    "df_Clean_data = df_Full_dataset.drop(['Unnamed: 0','trans_date_trans_time', 'cc_num', 'merchant', 'first', 'last', 'street', 'zip', 'lat', 'long', 'trans_num', 'unix_time', 'merch_lat', 'merch_long'], axis=1)\n",
    "df_Clean_data.head()"
   ]
  },
  {
   "cell_type": "markdown",
   "id": "0b126c55-a182-4557-9006-6790b2fd2d93",
   "metadata": {},
   "source": [
    "When analyzing the correlation matrix and correlation coefficients, if you find that the target column (is_fraud) has very low correlation with all other columns, it suggests that these columns may not have a strong linear relationship with the target column. In such cases, removing these columns might be a reasonable approach. By removing columns 'Unnamed: 0','trans_date_trans_time', 'cc_num', 'merchant', 'first', 'last', 'street', 'zip', 'lat', 'long', 'trans_num', 'unix_time', 'merch_lat', 'merch_long' you can build a simpler and more interpretable model that focuses on the most relevant features for predicting fraud."
   ]
  },
  {
   "cell_type": "markdown",
   "id": "0c2ff2c8-25f3-49d3-a7cf-92a4b8b23084",
   "metadata": {},
   "source": [
    "# Standard Scaling Method"
   ]
  },
  {
   "cell_type": "code",
   "execution_count": 21,
   "id": "348c23c7-4656-43e1-bb26-6daca5f731bb",
   "metadata": {},
   "outputs": [
    {
     "data": {
      "text/html": [
       "<div>\n",
       "<style scoped>\n",
       "    .dataframe tbody tr th:only-of-type {\n",
       "        vertical-align: middle;\n",
       "    }\n",
       "\n",
       "    .dataframe tbody tr th {\n",
       "        vertical-align: top;\n",
       "    }\n",
       "\n",
       "    .dataframe thead th {\n",
       "        text-align: right;\n",
       "    }\n",
       "</style>\n",
       "<table border=\"1\" class=\"dataframe\">\n",
       "  <thead>\n",
       "    <tr style=\"text-align: right;\">\n",
       "      <th></th>\n",
       "      <th>category</th>\n",
       "      <th>amt</th>\n",
       "      <th>gender</th>\n",
       "      <th>city</th>\n",
       "      <th>state</th>\n",
       "      <th>city_pop</th>\n",
       "      <th>job</th>\n",
       "      <th>dob</th>\n",
       "      <th>is_fraud</th>\n",
       "    </tr>\n",
       "  </thead>\n",
       "  <tbody>\n",
       "    <tr>\n",
       "      <th>0</th>\n",
       "      <td>8.0</td>\n",
       "      <td>4.97</td>\n",
       "      <td>0.0</td>\n",
       "      <td>532.0</td>\n",
       "      <td>27.0</td>\n",
       "      <td>-0.282429</td>\n",
       "      <td>372.0</td>\n",
       "      <td>791.0</td>\n",
       "      <td>0</td>\n",
       "    </tr>\n",
       "    <tr>\n",
       "      <th>1</th>\n",
       "      <td>4.0</td>\n",
       "      <td>107.23</td>\n",
       "      <td>0.0</td>\n",
       "      <td>619.0</td>\n",
       "      <td>47.0</td>\n",
       "      <td>-0.293527</td>\n",
       "      <td>431.0</td>\n",
       "      <td>619.0</td>\n",
       "      <td>0</td>\n",
       "    </tr>\n",
       "    <tr>\n",
       "      <th>2</th>\n",
       "      <td>0.0</td>\n",
       "      <td>220.11</td>\n",
       "      <td>1.0</td>\n",
       "      <td>474.0</td>\n",
       "      <td>13.0</td>\n",
       "      <td>-0.280243</td>\n",
       "      <td>308.0</td>\n",
       "      <td>309.0</td>\n",
       "      <td>0</td>\n",
       "    </tr>\n",
       "    <tr>\n",
       "      <th>3</th>\n",
       "      <td>2.0</td>\n",
       "      <td>45.00</td>\n",
       "      <td>1.0</td>\n",
       "      <td>84.0</td>\n",
       "      <td>26.0</td>\n",
       "      <td>-0.287590</td>\n",
       "      <td>330.0</td>\n",
       "      <td>405.0</td>\n",
       "      <td>0</td>\n",
       "    </tr>\n",
       "    <tr>\n",
       "      <th>4</th>\n",
       "      <td>9.0</td>\n",
       "      <td>41.96</td>\n",
       "      <td>1.0</td>\n",
       "      <td>217.0</td>\n",
       "      <td>45.0</td>\n",
       "      <td>-0.293693</td>\n",
       "      <td>116.0</td>\n",
       "      <td>746.0</td>\n",
       "      <td>0</td>\n",
       "    </tr>\n",
       "  </tbody>\n",
       "</table>\n",
       "</div>"
      ],
      "text/plain": [
       "   category     amt  gender   city  state  city_pop    job    dob  is_fraud\n",
       "0       8.0    4.97     0.0  532.0   27.0 -0.282429  372.0  791.0         0\n",
       "1       4.0  107.23     0.0  619.0   47.0 -0.293527  431.0  619.0         0\n",
       "2       0.0  220.11     1.0  474.0   13.0 -0.280243  308.0  309.0         0\n",
       "3       2.0   45.00     1.0   84.0   26.0 -0.287590  330.0  405.0         0\n",
       "4       9.0   41.96     1.0  217.0   45.0 -0.293693  116.0  746.0         0"
      ]
     },
     "execution_count": 21,
     "metadata": {},
     "output_type": "execute_result"
    }
   ],
   "source": [
    "cols_to_scale = ['city_pop']\n",
    "\n",
    "#create and fit scaler\n",
    "from sklearn.preprocessing import StandardScaler\n",
    "scaler = StandardScaler()\n",
    "scaler.fit(df_Clean_data[cols_to_scale])\n",
    "\n",
    "#scale selected data\n",
    "df_Clean_data[cols_to_scale] = scaler.transform(df_Clean_data[cols_to_scale])\n",
    "\n",
    "df_Clean_data.head()"
   ]
  },
  {
   "cell_type": "markdown",
   "id": "27ca1e59-a8cc-46b4-9695-84814c7c313d",
   "metadata": {},
   "source": [
    "By performing the StandardScaler technique with (city_pop) that is used to standardize numerical features by transforming them to have a mean of 0 and a standard deviation of 1. It helps improve the performance of machine learning algorithms by ensuring that all features are on a comparable scale."
   ]
  },
  {
   "cell_type": "code",
   "execution_count": 22,
   "id": "b3af93cf-c6a8-41db-8861-247a402e8c09",
   "metadata": {},
   "outputs": [
    {
     "data": {
      "text/plain": [
       "<Axes: xlabel='is_fraud'>"
      ]
     },
     "execution_count": 22,
     "metadata": {},
     "output_type": "execute_result"
    },
    {
     "data": {
      "image/png": "[encoded data removed]",
      "text/plain": [
       "<Figure size 640x480 with 1 Axes>"
      ]
     },
     "metadata": {},
     "output_type": "display_data"
    }
   ],
   "source": [
    "#Checking the target column train dataset\n",
    "df_Full_dataset['is_fraud'].value_counts().plot(kind='bar')"
   ]
  },
  {
   "cell_type": "markdown",
   "id": "00f021c7-f3c3-432d-9aa5-c82a32cf6d6f",
   "metadata": {},
   "source": [
    "At last checked for the target column (is_fraud).There is always the issue of class imbalance where actual fraud cases are way fewer than normal cases and constitute only a very small part of the dataset. To counter this imbalance,Created two dataframe in first dataframe created 0.5% non-fraudulent cases randomally seleted and stored in it in the second dataframe all the fraudulent caseshave been stored,then both the dataframes are merged together.Atlast we get the the finial dataframe of the target column is_fraud will be balanced properly.Then this dataset can be used for all the machine learning models for further analysis."
   ]
  },
  {
   "cell_type": "markdown",
   "id": "8fe172f5-f52a-4a3e-95c3-ec3df060b1f9",
   "metadata": {},
   "source": [
    "# Treating Class Imbalance"
   ]
  },
  {
   "cell_type": "code",
   "execution_count": 23,
   "id": "f6401012-a3b8-4f9a-8548-864718819ed1",
   "metadata": {},
   "outputs": [
    {
     "data": {
      "text/plain": [
       "is_fraud\n",
       "0    9214\n",
       "Name: count, dtype: int64"
      ]
     },
     "execution_count": 23,
     "metadata": {},
     "output_type": "execute_result"
    }
   ],
   "source": [
    "rf=df_Clean_data[df_Clean_data[\"is_fraud\"]==0].sample(frac=0.005,replace=False)\n",
    "rf[\"is_fraud\"].value_counts()"
   ]
  },
  {
   "cell_type": "markdown",
   "id": "6c2fca9c-3631-4a7a-aade-f4c20d4b927d",
   "metadata": {},
   "source": [
    "In the above table ,A new dataframe with non-fraudulent is created and consist of values 9214."
   ]
  },
  {
   "cell_type": "code",
   "execution_count": 24,
   "id": "7cbf6b9d-b04f-43e0-a3f8-8b5b851d8460",
   "metadata": {},
   "outputs": [
    {
     "data": {
      "text/plain": [
       "is_fraud\n",
       "1    9651\n",
       "Name: count, dtype: int64"
      ]
     },
     "execution_count": 24,
     "metadata": {},
     "output_type": "execute_result"
    }
   ],
   "source": [
    "gf=df_Clean_data[df_Clean_data[\"is_fraud\"]==1]\n",
    "gf[\"is_fraud\"].value_counts()"
   ]
  },
  {
   "cell_type": "markdown",
   "id": "2c4b0dec-e7d7-408d-8d81-06fb16a42790",
   "metadata": {},
   "source": [
    "In the above table ,a new dataframe with fraudulent is created and consist of values 9651."
   ]
  },
  {
   "cell_type": "code",
   "execution_count": 25,
   "id": "3504916a-fa0b-474b-97ce-1f22ccaa7322",
   "metadata": {},
   "outputs": [
    {
     "data": {
      "text/html": [
       "<div>\n",
       "<style scoped>\n",
       "    .dataframe tbody tr th:only-of-type {\n",
       "        vertical-align: middle;\n",
       "    }\n",
       "\n",
       "    .dataframe tbody tr th {\n",
       "        vertical-align: top;\n",
       "    }\n",
       "\n",
       "    .dataframe thead th {\n",
       "        text-align: right;\n",
       "    }\n",
       "</style>\n",
       "<table border=\"1\" class=\"dataframe\">\n",
       "  <thead>\n",
       "    <tr style=\"text-align: right;\">\n",
       "      <th></th>\n",
       "      <th>category</th>\n",
       "      <th>amt</th>\n",
       "      <th>gender</th>\n",
       "      <th>city</th>\n",
       "      <th>state</th>\n",
       "      <th>city_pop</th>\n",
       "      <th>job</th>\n",
       "      <th>dob</th>\n",
       "      <th>is_fraud</th>\n",
       "    </tr>\n",
       "  </thead>\n",
       "  <tbody>\n",
       "    <tr>\n",
       "      <th>0</th>\n",
       "      <td>1.0</td>\n",
       "      <td>53.88</td>\n",
       "      <td>0.0</td>\n",
       "      <td>465.0</td>\n",
       "      <td>17.0</td>\n",
       "      <td>2.148150</td>\n",
       "      <td>145.0</td>\n",
       "      <td>301.0</td>\n",
       "      <td>0</td>\n",
       "    </tr>\n",
       "    <tr>\n",
       "      <th>1</th>\n",
       "      <td>12.0</td>\n",
       "      <td>149.86</td>\n",
       "      <td>0.0</td>\n",
       "      <td>42.0</td>\n",
       "      <td>12.0</td>\n",
       "      <td>-0.287268</td>\n",
       "      <td>176.0</td>\n",
       "      <td>493.0</td>\n",
       "      <td>0</td>\n",
       "    </tr>\n",
       "    <tr>\n",
       "      <th>2</th>\n",
       "      <td>4.0</td>\n",
       "      <td>82.92</td>\n",
       "      <td>0.0</td>\n",
       "      <td>91.0</td>\n",
       "      <td>1.0</td>\n",
       "      <td>-0.285510</td>\n",
       "      <td>187.0</td>\n",
       "      <td>249.0</td>\n",
       "      <td>0</td>\n",
       "    </tr>\n",
       "    <tr>\n",
       "      <th>3</th>\n",
       "      <td>4.0</td>\n",
       "      <td>95.27</td>\n",
       "      <td>0.0</td>\n",
       "      <td>152.0</td>\n",
       "      <td>36.0</td>\n",
       "      <td>-0.288183</td>\n",
       "      <td>316.0</td>\n",
       "      <td>504.0</td>\n",
       "      <td>0</td>\n",
       "    </tr>\n",
       "    <tr>\n",
       "      <th>4</th>\n",
       "      <td>4.0</td>\n",
       "      <td>202.85</td>\n",
       "      <td>0.0</td>\n",
       "      <td>428.0</td>\n",
       "      <td>37.0</td>\n",
       "      <td>-0.152002</td>\n",
       "      <td>344.0</td>\n",
       "      <td>679.0</td>\n",
       "      <td>0</td>\n",
       "    </tr>\n",
       "    <tr>\n",
       "      <th>...</th>\n",
       "      <td>...</td>\n",
       "      <td>...</td>\n",
       "      <td>...</td>\n",
       "      <td>...</td>\n",
       "      <td>...</td>\n",
       "      <td>...</td>\n",
       "      <td>...</td>\n",
       "      <td>...</td>\n",
       "      <td>...</td>\n",
       "    </tr>\n",
       "    <tr>\n",
       "      <th>18860</th>\n",
       "      <td>12.0</td>\n",
       "      <td>1041.51</td>\n",
       "      <td>1.0</td>\n",
       "      <td>750.0</td>\n",
       "      <td>25.0</td>\n",
       "      <td>-0.246052</td>\n",
       "      <td>119.0</td>\n",
       "      <td>258.0</td>\n",
       "      <td>1</td>\n",
       "    </tr>\n",
       "    <tr>\n",
       "      <th>18861</th>\n",
       "      <td>12.0</td>\n",
       "      <td>868.09</td>\n",
       "      <td>1.0</td>\n",
       "      <td>750.0</td>\n",
       "      <td>25.0</td>\n",
       "      <td>-0.246052</td>\n",
       "      <td>119.0</td>\n",
       "      <td>258.0</td>\n",
       "      <td>1</td>\n",
       "    </tr>\n",
       "    <tr>\n",
       "      <th>18862</th>\n",
       "      <td>11.0</td>\n",
       "      <td>1039.42</td>\n",
       "      <td>1.0</td>\n",
       "      <td>750.0</td>\n",
       "      <td>25.0</td>\n",
       "      <td>-0.246052</td>\n",
       "      <td>119.0</td>\n",
       "      <td>258.0</td>\n",
       "      <td>1</td>\n",
       "    </tr>\n",
       "    <tr>\n",
       "      <th>18863</th>\n",
       "      <td>4.0</td>\n",
       "      <td>289.27</td>\n",
       "      <td>1.0</td>\n",
       "      <td>750.0</td>\n",
       "      <td>25.0</td>\n",
       "      <td>-0.246052</td>\n",
       "      <td>119.0</td>\n",
       "      <td>258.0</td>\n",
       "      <td>1</td>\n",
       "    </tr>\n",
       "    <tr>\n",
       "      <th>18864</th>\n",
       "      <td>8.0</td>\n",
       "      <td>766.38</td>\n",
       "      <td>1.0</td>\n",
       "      <td>750.0</td>\n",
       "      <td>25.0</td>\n",
       "      <td>-0.246052</td>\n",
       "      <td>119.0</td>\n",
       "      <td>258.0</td>\n",
       "      <td>1</td>\n",
       "    </tr>\n",
       "  </tbody>\n",
       "</table>\n",
       "<p>18865 rows × 9 columns</p>\n",
       "</div>"
      ],
      "text/plain": [
       "       category      amt  gender   city  state  city_pop    job    dob  \\\n",
       "0           1.0    53.88     0.0  465.0   17.0  2.148150  145.0  301.0   \n",
       "1          12.0   149.86     0.0   42.0   12.0 -0.287268  176.0  493.0   \n",
       "2           4.0    82.92     0.0   91.0    1.0 -0.285510  187.0  249.0   \n",
       "3           4.0    95.27     0.0  152.0   36.0 -0.288183  316.0  504.0   \n",
       "4           4.0   202.85     0.0  428.0   37.0 -0.152002  344.0  679.0   \n",
       "...         ...      ...     ...    ...    ...       ...    ...    ...   \n",
       "18860      12.0  1041.51     1.0  750.0   25.0 -0.246052  119.0  258.0   \n",
       "18861      12.0   868.09     1.0  750.0   25.0 -0.246052  119.0  258.0   \n",
       "18862      11.0  1039.42     1.0  750.0   25.0 -0.246052  119.0  258.0   \n",
       "18863       4.0   289.27     1.0  750.0   25.0 -0.246052  119.0  258.0   \n",
       "18864       8.0   766.38     1.0  750.0   25.0 -0.246052  119.0  258.0   \n",
       "\n",
       "       is_fraud  \n",
       "0             0  \n",
       "1             0  \n",
       "2             0  \n",
       "3             0  \n",
       "4             0  \n",
       "...         ...  \n",
       "18860         1  \n",
       "18861         1  \n",
       "18862         1  \n",
       "18863         1  \n",
       "18864         1  \n",
       "\n",
       "[18865 rows x 9 columns]"
      ]
     },
     "execution_count": 25,
     "metadata": {},
     "output_type": "execute_result"
    }
   ],
   "source": [
    "#Merging both the datafrmes to get class blanced dataset\n",
    "merged_df = pd.concat([rf, gf], axis=0)\n",
    "\n",
    "# Reset index if needed\n",
    "merged_df.reset_index(drop=True, inplace=True)\n",
    "merged_df"
   ]
  },
  {
   "cell_type": "markdown",
   "id": "c908215f-d059-4e11-9300-3ace23e84175",
   "metadata": {},
   "source": [
    "Both the dataframes are concated into single dataframe which consist of 18865 rows and 9 columns."
   ]
  },
  {
   "cell_type": "code",
   "execution_count": 26,
   "id": "469f019b-5625-4af7-b366-eed27f662bfa",
   "metadata": {},
   "outputs": [
    {
     "data": {
      "text/html": [
       "<div>\n",
       "<style scoped>\n",
       "    .dataframe tbody tr th:only-of-type {\n",
       "        vertical-align: middle;\n",
       "    }\n",
       "\n",
       "    .dataframe tbody tr th {\n",
       "        vertical-align: top;\n",
       "    }\n",
       "\n",
       "    .dataframe thead th {\n",
       "        text-align: right;\n",
       "    }\n",
       "</style>\n",
       "<table border=\"1\" class=\"dataframe\">\n",
       "  <thead>\n",
       "    <tr style=\"text-align: right;\">\n",
       "      <th></th>\n",
       "      <th>category</th>\n",
       "      <th>amt</th>\n",
       "      <th>gender</th>\n",
       "      <th>city</th>\n",
       "      <th>state</th>\n",
       "      <th>city_pop</th>\n",
       "      <th>job</th>\n",
       "      <th>dob</th>\n",
       "      <th>is_fraud</th>\n",
       "    </tr>\n",
       "  </thead>\n",
       "  <tbody>\n",
       "    <tr>\n",
       "      <th>10323</th>\n",
       "      <td>9.0</td>\n",
       "      <td>50.11</td>\n",
       "      <td>0.0</td>\n",
       "      <td>116.0</td>\n",
       "      <td>43.0</td>\n",
       "      <td>-0.292290</td>\n",
       "      <td>94.0</td>\n",
       "      <td>115.0</td>\n",
       "      <td>1</td>\n",
       "    </tr>\n",
       "    <tr>\n",
       "      <th>8044</th>\n",
       "      <td>13.0</td>\n",
       "      <td>4.15</td>\n",
       "      <td>1.0</td>\n",
       "      <td>371.0</td>\n",
       "      <td>1.0</td>\n",
       "      <td>0.336778</td>\n",
       "      <td>462.0</td>\n",
       "      <td>530.0</td>\n",
       "      <td>0</td>\n",
       "    </tr>\n",
       "    <tr>\n",
       "      <th>14393</th>\n",
       "      <td>11.0</td>\n",
       "      <td>808.28</td>\n",
       "      <td>0.0</td>\n",
       "      <td>761.0</td>\n",
       "      <td>38.0</td>\n",
       "      <td>-0.293676</td>\n",
       "      <td>196.0</td>\n",
       "      <td>8.0</td>\n",
       "      <td>1</td>\n",
       "    </tr>\n",
       "    <tr>\n",
       "      <th>16039</th>\n",
       "      <td>2.0</td>\n",
       "      <td>8.42</td>\n",
       "      <td>1.0</td>\n",
       "      <td>186.0</td>\n",
       "      <td>40.0</td>\n",
       "      <td>-0.279191</td>\n",
       "      <td>315.0</td>\n",
       "      <td>540.0</td>\n",
       "      <td>1</td>\n",
       "    </tr>\n",
       "    <tr>\n",
       "      <th>6247</th>\n",
       "      <td>7.0</td>\n",
       "      <td>98.98</td>\n",
       "      <td>0.0</td>\n",
       "      <td>539.0</td>\n",
       "      <td>12.0</td>\n",
       "      <td>-0.292253</td>\n",
       "      <td>79.0</td>\n",
       "      <td>819.0</td>\n",
       "      <td>0</td>\n",
       "    </tr>\n",
       "  </tbody>\n",
       "</table>\n",
       "</div>"
      ],
      "text/plain": [
       "       category     amt  gender   city  state  city_pop    job    dob  \\\n",
       "10323       9.0   50.11     0.0  116.0   43.0 -0.292290   94.0  115.0   \n",
       "8044       13.0    4.15     1.0  371.0    1.0  0.336778  462.0  530.0   \n",
       "14393      11.0  808.28     0.0  761.0   38.0 -0.293676  196.0    8.0   \n",
       "16039       2.0    8.42     1.0  186.0   40.0 -0.279191  315.0  540.0   \n",
       "6247        7.0   98.98     0.0  539.0   12.0 -0.292253   79.0  819.0   \n",
       "\n",
       "       is_fraud  \n",
       "10323         1  \n",
       "8044          0  \n",
       "14393         1  \n",
       "16039         1  \n",
       "6247          0  "
      ]
     },
     "execution_count": 26,
     "metadata": {},
     "output_type": "execute_result"
    }
   ],
   "source": [
    "#Rnadomly shuffling the rows of the datatframe\n",
    "merged_df=merged_df.sample(frac=1,replace=False)\n",
    "merged_df.head()"
   ]
  },
  {
   "cell_type": "markdown",
   "id": "f7e0cf55-e57a-409d-824b-cd9af097ffdc",
   "metadata": {},
   "source": [
    "Based on our EDA above, we have found out that the features including transaction amt, spending category, gender,city,state,city_pop,job and dob all have varying degrees of correlations with credit card fraud.The plan is to train the models using this dataset which we have analyzed above and then use the testing dataset to evaluate the model performance."
   ]
  },
  {
   "cell_type": "code",
   "execution_count": 27,
   "id": "c428bbb4-62ce-4d8c-bdbb-5ec0ef3e5e19",
   "metadata": {},
   "outputs": [
    {
     "data": {
      "text/plain": [
       "is_fraud\n",
       "1    9651\n",
       "0    9214\n",
       "Name: count, dtype: int64"
      ]
     },
     "execution_count": 27,
     "metadata": {},
     "output_type": "execute_result"
    }
   ],
   "source": [
    "#Checking the fradulant and Non-fradulant in the new dataframe\n",
    "merged_df['is_fraud'].value_counts()"
   ]
  },
  {
   "cell_type": "markdown",
   "id": "2a763ab2-c1ae-4a11-af54-732c6f19a8f9",
   "metadata": {},
   "source": [
    "From the above graph we can see that the class inbalance has been treated and the balanced now.\n",
    "Non-fradulant is 9214  and fradulant is 9651."
   ]
  },
  {
   "cell_type": "markdown",
   "id": "990ccfb5-cd39-4fbf-beb8-527cb3224bf9",
   "metadata": {},
   "source": [
    "# Train-Test-Split"
   ]
  },
  {
   "cell_type": "code",
   "execution_count": 28,
   "id": "2027498b-6214-4e68-8b73-2e7ded244106",
   "metadata": {},
   "outputs": [],
   "source": [
    "from sklearn.model_selection import train_test_split\n",
    "X = merged_df.drop(['is_fraud'],axis=1)\n",
    "y = merged_df['is_fraud']\n",
    "\n",
    "X_train, X_test, y_train, y_test = train_test_split(X, y, test_size=0.3, random_state=42)"
   ]
  },
  {
   "cell_type": "markdown",
   "id": "07b72404-43ba-4b1f-9a67-2fbba90ef6be",
   "metadata": {},
   "source": [
    "The data is split into train and test,70% of the data is split into the training the model and 30% of the data is split into testing the data and validate the model performance.X_train and X_test consist of independent features and y_train and y_test consist of target variable of fradulaent activity."
   ]
  },
  {
   "cell_type": "code",
   "execution_count": 29,
   "id": "485f55b3-a9f0-444c-ac68-ff613ef93e52",
   "metadata": {},
   "outputs": [
    {
     "name": "stdout",
     "output_type": "stream",
     "text": [
      "Training Data Shape   :  (13205, 8)\n",
      "Training Labels Shape :  (13205,)\n",
      "Testing Data Shape    :  (5660, 8)\n",
      "Testing Labels Shape  :  (5660,)\n"
     ]
    }
   ],
   "source": [
    "print('Training Data Shape   : ', X_train.shape)\n",
    "print('Training Labels Shape : ', y_train.shape)\n",
    "print('Testing Data Shape    : ', X_test.shape)\n",
    "print('Testing Labels Shape  : ', y_test.shape)"
   ]
  },
  {
   "cell_type": "markdown",
   "id": "14ced156-06e0-465e-abd2-97c5c7ba0163",
   "metadata": {},
   "source": [
    "# Machine Learning Models and Predictions"
   ]
  },
  {
   "attachments": {},
   "cell_type": "markdown",
   "id": "b28e7a8b-c7e0-4905-a4bb-7222602924d9",
   "metadata": {},
   "source": [
    "After conducting Exploratory Data Analysis (EDA), the next step involves feature engineering to select or transform relevant features,the selected feature are transaction amt, spending category, gender,city,state,city_pop,job and dob,that will be using to perform appropriate machine learning algorithm.The five selected machine learning and artifical Intelligence are 1)Decision Tree Classifier 2)Random Forest Classifier 3)XGBoost Classifier 4)LogisticRegression Model 5)Neural Network Model and Hyperparameter tuning involves selecting the optimal combination of hyperparameters to maximize the performance of the model. Techniques like grid search, random search are been used in the model.After training the model, it is essential to evaluate its performance using appropriate metrics such as accuracy, precision, recall, F1-score, or area under the ROC curve (AUC). This helps assess how well the model generalizes to new, unseen data and whether it meets the project's objectives."
   ]
  },
  {
   "cell_type": "markdown",
   "id": "cee1efd4-5c71-4b76-9af4-06f91ba729fe",
   "metadata": {},
   "source": [
    "# All Models without Hypertuning"
   ]
  },
  {
   "cell_type": "markdown",
   "id": "dd531d41-e67b-46ad-8791-493ab4322e21",
   "metadata": {},
   "source": [
    "# Decision Tree Classifier"
   ]
  },
  {
   "cell_type": "code",
   "execution_count": 30,
   "id": "df0645b3-d4ae-48bb-98f9-5de581ddbf2a",
   "metadata": {},
   "outputs": [
    {
     "name": "stdout",
     "output_type": "stream",
     "text": [
      "Training Set Accuracy:  0.8617947747065505\n",
      "Testing Set Accuracy:  0.8568904593639576\n",
      "[[2692   61]\n",
      " [ 749 2158]]\n",
      "\n",
      "\n",
      "              precision    recall  f1-score   support\n",
      "\n",
      "           0       0.78      0.98      0.87      2753\n",
      "           1       0.97      0.74      0.84      2907\n",
      "\n",
      "    accuracy                           0.86      5660\n",
      "   macro avg       0.88      0.86      0.86      5660\n",
      "weighted avg       0.88      0.86      0.86      5660\n",
      "\n"
     ]
    }
   ],
   "source": [
    "#Decision Tree Model with simple train ,test data split\n",
    "dt_classifier = DecisionTreeClassifier(criterion = 'entropy', max_depth = 2, random_state = 2)\n",
    "dt_classifier.fit(X_train, y_train)\n",
    "#To check the accuracy of train and test dataset\n",
    "print('Training Set Accuracy: ', dt_classifier.score (X_train, y_train))\n",
    "print('Testing Set Accuracy: ', dt_classifier.score (X_test, y_test))\n",
    "#To print confusion martix and classfication report\n",
    "dtree_pred = dt_classifier.predict(X_test)\n",
    "print(confusion_matrix(y_test,dtree_pred))\n",
    "print('\\n')\n",
    "print(classification_report(y_test,dtree_pred))"
   ]
  },
  {
   "cell_type": "markdown",
   "id": "0895a77f-d551-49f6-8e37-0b46c0c5f974",
   "metadata": {},
   "source": [
    "Confusion Matrix:\n",
    "\n",
    "The confusion matrix is a table that summarizes the performance of a classification algorithm. It consists of four terms: true positives (TP), true negatives (TN), false positives (FP), and false negatives (FN).\n",
    "In the provided confusion matrix:\n",
    "True Positives (TP) = 2158: This represents the number of instances where the model correctly predicted the Fraud class (1).\n",
    "True Negatives (TN) = 2692 : This represents the number of instances where the model correctly predicted the Non-Fraud class (0).\n",
    "False Positives (FP) = 61: This represents the number of instances where the model incorrectly predicted the Fraud class (1) when the actual class was Non-Fraud  (0).\n",
    "False Negatives (FN) = 749 : This represents the number of instances where the model incorrectly predicted the Non-Fraud  class (0) when the actual class was Fraud (1).\n",
    "Classfication Report:\n",
    "\n",
    "Class 0 (Non-Fraud)\n",
    "The model shows high precision (0.78), indicating that when it predicts an instance as class 0, it is correct 78% of the time.The recall for class 0 is very high (0.98), suggesting that the model effectively identifies the majority of actual instances of class 0.The F1-score for class 0 is also high (0.87), indicating a good balance between precision and recall.\n",
    "\n",
    "Class 1 (Fraud) \n",
    "The model exhibits even higher precision for class 1 (0.97), meaning that when it predicts an instance as class 1, it is correct 96% of the time.However, the recall for class 1 is lower (0.74), indicating that the model misses some actual instances of class 1.\n",
    "The F1-score for class 1 is slightly lower (0.84) compared to class 0, reflecting the comparsion between precision and recall.\n",
    "\n",
    "In conclusion, the Decision Tree model demonstrates strong predictive capabilities but this is just model without any hypertuning at the bottom of this notebook have done grid-search and random search for this model and accuracy and f1 score have been changed alot that will explained below."
   ]
  },
  {
   "cell_type": "markdown",
   "id": "8975b0fc-0092-42f4-b708-996d037db81f",
   "metadata": {},
   "source": [
    "# Random Forest Classifier"
   ]
  },
  {
   "cell_type": "code",
   "execution_count": 31,
   "id": "9c569966-b2db-42d1-b620-3b77f99fc321",
   "metadata": {},
   "outputs": [
    {
     "name": "stdout",
     "output_type": "stream",
     "text": [
      "Training Set Accuracy:  0.5494888299886407\n",
      "Testing Set Accuracy:  0.553356890459364\n",
      "[[1696 1057]\n",
      " [1471 1436]]\n",
      "\n",
      "\n",
      "              precision    recall  f1-score   support\n",
      "\n",
      "           0       0.54      0.62      0.57      2753\n",
      "           1       0.58      0.49      0.53      2907\n",
      "\n",
      "    accuracy                           0.55      5660\n",
      "   macro avg       0.56      0.56      0.55      5660\n",
      "weighted avg       0.56      0.55      0.55      5660\n",
      "\n"
     ]
    }
   ],
   "source": [
    "# Bagging ensemble random forest model simple train ,test data split\n",
    "rt_classifier = RandomForestClassifier(n_estimators = 2, max_depth = 2, random_state = 2)\n",
    "rt_classifier.fit(X_train, y_train)\n",
    "#To check the accuracy of train and test dataset\n",
    "print('Training Set Accuracy: ', rt_classifier.score (X_train, y_train))\n",
    "print('Testing Set Accuracy: ', rt_classifier.score (X_test, y_test))\n",
    "#To print confusion martix and classfication report\n",
    "RF_pred = rt_classifier.predict(X_test)\n",
    "print(confusion_matrix(y_test,RF_pred))\n",
    "print('\\n')\n",
    "print(classification_report(y_test,RF_pred))\n"
   ]
  },
  {
   "cell_type": "markdown",
   "id": "96babb47-27e7-46ca-bb06-cdac8c882507",
   "metadata": {},
   "source": [
    "Confusion Matrix:\n",
    "The confusion matrix is a table that summarizes the performance of a classification algorithm. It consists of four terms: true positives (TP), true negatives (TN), false positives (FP), and false negatives (FN).\n",
    "In the provided confusion matrix:\n",
    "True Positives (TP) = 1436: This represents the number of instances where the model correctly predicted the Fraud class (1).\n",
    "True Negatives (TN) = 1696  : This represents the number of instances where the model correctly predicted the Non-Fraud class (0).\n",
    "False Positives (FP) = 1057: This represents the number of instances where the model incorrectly predicted the Fraud class (1) when the actual class was Non-Fraud  (0).\n",
    "False Negatives (FN) = 1471  : This represents the number of instances where the model incorrectly predicted the Non-Fraud  class (0) when the actual class was Fraud (1).\n",
    "\n",
    "Classfication Report:\n",
    "For class 0 (Non-Fraud):\n",
    "Precision: 0.54 When the model predicts an instance as Non-Fraud, it is correct 54% of the time.\n",
    "Recall: 0.62 The model effectively identifies 62% of actual Non-Fraud instances.\n",
    "F1-score: 0.57 Reflecting a balance between precision and recall for Non-Fraud.\n",
    "\n",
    "For class 1 (Fraud):\n",
    "Precision: 0.58 When the model predicts an instance as Fraud, it is correct 58% of the time.\n",
    "Recall: 0.49 The model captures 49% of actual Fraud instances.\n",
    "F1-score: 0.53 Representing the harmonic mean of precision and recall for Fraud.\n",
    "\n",
    "In conclusion, the random forest is poorly performaing with very less f1-score all for all instances, but this is just model without any hypertuning at the bottom of this notebook have done grid-search and random search for this model and accuracy and f1 score have been changed alot that will explained below."
   ]
  },
  {
   "cell_type": "markdown",
   "id": "b2f2d11a-87d4-43e2-9673-ec0fdc926c69",
   "metadata": {},
   "source": [
    "# XGBoost Classifier"
   ]
  },
  {
   "cell_type": "code",
   "execution_count": 32,
   "id": "202e4af0-d0a9-41af-9d4a-ace2de6ba1fc",
   "metadata": {},
   "outputs": [
    {
     "name": "stdout",
     "output_type": "stream",
     "text": [
      "Training Set Accuracy:  0.9500189322226429\n",
      "Testing Set Accuracy:  0.95\n",
      "[[2643  110]\n",
      " [ 173 2734]]\n",
      "\n",
      "\n",
      "              precision    recall  f1-score   support\n",
      "\n",
      "           0       0.94      0.96      0.95      2753\n",
      "           1       0.96      0.94      0.95      2907\n",
      "\n",
      "    accuracy                           0.95      5660\n",
      "   macro avg       0.95      0.95      0.95      5660\n",
      "weighted avg       0.95      0.95      0.95      5660\n",
      "\n"
     ]
    }
   ],
   "source": [
    "# Boosting Ensemble XGBClassifier model Simple train ,test data split\n",
    "xg_classifier = XGBClassifier(n_estimators = 2)\n",
    "xg_classifier.fit(X_train, y_train)\n",
    "#To check the accuracy of train and test dataset\n",
    "print('Training Set Accuracy: ', xg_classifier.score (X_train, y_train))\n",
    "print('Testing Set Accuracy: ', xg_classifier.score (X_test, y_test))\n",
    "#To print confusion martix and classfication report\n",
    "XG_pred = xg_classifier.predict(X_test)\n",
    "print(confusion_matrix(y_test,XG_pred))\n",
    "print('\\n')\n",
    "print(classification_report(y_test,XG_pred))"
   ]
  },
  {
   "cell_type": "markdown",
   "id": "f9e52e8c-4c0b-469c-8f37-c78f149e0a29",
   "metadata": {},
   "source": [
    "Confusion Matrix:\n",
    "The confusion matrix is a table that summarizes the performance of a classification algorithm. It consists of four terms: true positives (TP), true negatives (TN), false positives (FP), and false negatives (FN).\n",
    "In the provided confusion matrix:\n",
    "True Positives (TP) = 2734: This represents the number of instances where the model correctly predicted the Fraud class (1).\n",
    "True Negatives (TN) = 2643  : This represents the number of instances where the model correctly predicted the Non-Fraud class (0).\n",
    "False Positives (FP) = 110: This represents the number of instances where the model incorrectly predicted the Fraud class (1) when the actual class was Non-Fraud  (0).\n",
    "False Negatives (FN) = 173   : This represents the number of instances where the model incorrectly predicted the Non-Fraud  class (0) when the actual class was Fraud (1).\n",
    "\n",
    "Classfication Report:\n",
    "For class 0 (Non-Fraud):\n",
    "Precision: 0.94, indicating that when the model predicts an instance as Non-Fraud, it is correct 94% of the time.\n",
    "Recall: 0.96, suggesting that the model effectively identifies 96% of actual Non-Fraud instances.\n",
    "F1-score: 0.95, reflecting a balance between precision and recall for Non-Fraud.\n",
    "For class 1 (Fraud):\n",
    "\n",
    "Precision: 0.96, meaning that when the model predicts an instance as Fraud, it is correct 96% of the time.\n",
    "Recall: 0.94, indicating that the model captures 94% of actual Fraud instances.\n",
    "F1-score: 0.95, representing the harmonic mean of precision and recall for Fraud.\n",
    "\n",
    "In conclusion, the XGB Boost Classifier achieves an accuracy of 95%, correctly classifying 95% of all instances but this is just model without any hypertuning at the bottom of this notebook have done grid-search and random search for this model and accuracy and f1 score have been changed alot that will explained below."
   ]
  },
  {
   "cell_type": "markdown",
   "id": "3d256947-ffce-44b7-8a8e-c6b468c2b813",
   "metadata": {},
   "source": [
    "# Logistics Regression "
   ]
  },
  {
   "cell_type": "code",
   "execution_count": 33,
   "id": "7d16165a-12f1-4b23-8cc3-2e79b63d4241",
   "metadata": {},
   "outputs": [
    {
     "name": "stdout",
     "output_type": "stream",
     "text": [
      "Training Set Accuracy: 0.8526315789473684\n",
      "Testing Set Accuracy: 0.8494699646643109\n",
      "Confusion Matrix:\n",
      "[[2615  138]\n",
      " [ 714 2193]]\n",
      "\n",
      "\n",
      "Classification Report:\n",
      "              precision    recall  f1-score   support\n",
      "\n",
      "           0       0.79      0.95      0.86      2753\n",
      "           1       0.94      0.75      0.84      2907\n",
      "\n",
      "    accuracy                           0.85      5660\n",
      "   macro avg       0.86      0.85      0.85      5660\n",
      "weighted avg       0.87      0.85      0.85      5660\n",
      "\n"
     ]
    },
    {
     "name": "stderr",
     "output_type": "stream",
     "text": [
      "D:\\Bharath_Anconda\\Lib\\site-packages\\sklearn\\linear_model\\_logistic.py:458: ConvergenceWarning: lbfgs failed to converge (status=1):\n",
      "STOP: TOTAL NO. of ITERATIONS REACHED LIMIT.\n",
      "\n",
      "Increase the number of iterations (max_iter) or scale the data as shown in:\n",
      "    https://scikit-learn.org/stable/modules/preprocessing.html\n",
      "Please also refer to the documentation for alternative solver options:\n",
      "    https://scikit-learn.org/stable/modules/linear_model.html#logistic-regression\n",
      "  n_iter_i = _check_optimize_result(\n"
     ]
    }
   ],
   "source": [
    "# Create Logistic Regression classifier\n",
    "lr_classifier = LogisticRegression()\n",
    "\n",
    "# Train the model\n",
    "lr_classifier.fit(X_train, y_train)\n",
    "\n",
    "# Evaluate on training and testing sets\n",
    "print('Training Set Accuracy:', lr_classifier.score(X_train, y_train))\n",
    "print('Testing Set Accuracy:', lr_classifier.score(X_test, y_test))\n",
    "\n",
    "# Predict on the test set\n",
    "lr_pred = lr_classifier.predict(X_test)\n",
    "\n",
    "# Confusion matrix\n",
    "print('Confusion Matrix:')\n",
    "print(confusion_matrix(y_test, lr_pred))\n",
    "print('\\n')\n",
    "\n",
    "# Classification report\n",
    "print('Classification Report:')\n",
    "print(classification_report(y_test, lr_pred))"
   ]
  },
  {
   "cell_type": "markdown",
   "id": "2f94feac-80a9-4c41-9c69-014a253f020b",
   "metadata": {},
   "source": [
    "Confusion Matrix:\n",
    "The confusion matrix is a table that summarizes the performance of a classification algorithm. It consists of four terms: true positives (TP), true negatives (TN), false positives (FP), and false negatives (FN).\n",
    "In the provided confusion matrix:\n",
    "True Positives (TP) = 2193: This represents the number of instances where the model correctly predicted the Fraud class (1).\n",
    "True Negatives (TN) = 2615    : This represents the number of instances where the model correctly predicted the Non-Fraud class (0).\n",
    "False Positives (FP) = 138: This represents the number of instances where the model incorrectly predicted the Fraud class (1) when the actual class was Non-Fraud  (0).\n",
    "False Negatives (FN) = 714    : This represents the number of instances where the model incorrectly predicted the Non-Fraud  class (0) when the actual class was Fraud (1).\n",
    "\n",
    "Classfication Report:\n",
    "For class 0 (Non-Fraud):\n",
    "Precision:  0.79 , indicating that when the model predicts an instance as Non-Fraud, it is correct 79% of the time.\n",
    "Recall: 0.95, suggesting that the model effectively identifies 95% of actual Non-Fraud instances.\n",
    "F1-score: 0.86, reflecting a balance between precision and recall for Non-Fraud.\n",
    "\n",
    "For class 1 (Fraud):\n",
    "Precision:0.94, meaning that when the model predicts an instance as Fraud, it is correct 94% of the time.\n",
    "Recall: 0.75, indicating that the model captures 75% of actual Fraud instances.\n",
    "F1-score:  0.84 , representing the harmonic mean of precision and recall for Fraud.\n",
    "\n",
    "In conclusion, the LogisticRegression model performance is reasonably good, achieving an accuracy of 85% but this is just model without any hypertuning at the bottom of this notebook have done grid-search and random search for this model and accuracy and f1 score have been changed alot that will explained below."
   ]
  },
  {
   "cell_type": "markdown",
   "id": "707d6772-5197-4f13-9ba9-298fe918baaf",
   "metadata": {},
   "source": [
    "# Neural Network Model"
   ]
  },
  {
   "cell_type": "code",
   "execution_count": 34,
   "id": "aea5e371-bd58-493d-ac67-edde66475909",
   "metadata": {},
   "outputs": [
    {
     "name": "stderr",
     "output_type": "stream",
     "text": [
      "D:\\Bharath_Anconda\\Lib\\site-packages\\keras\\src\\layers\\core\\dense.py:86: UserWarning: Do not pass an `input_shape`/`input_dim` argument to a layer. When using Sequential models, prefer using an `Input(shape)` object as the first layer in the model instead.\n",
      "  super().__init__(activity_regularizer=activity_regularizer, **kwargs)\n"
     ]
    },
    {
     "name": "stdout",
     "output_type": "stream",
     "text": [
      "Epoch 1/10\n",
      "\u001b[1m413/413\u001b[0m \u001b[32m━━━━━━━━━━━━━━━━━━━━\u001b[0m\u001b[37m\u001b[0m \u001b[1m11s\u001b[0m 6ms/step - accuracy: 0.7261 - loss: 3.9357 - val_accuracy: 0.7830 - val_loss: 0.5682\n",
      "Epoch 2/10\n",
      "\u001b[1m413/413\u001b[0m \u001b[32m━━━━━━━━━━━━━━━━━━━━\u001b[0m\u001b[37m\u001b[0m \u001b[1m1s\u001b[0m 3ms/step - accuracy: 0.7943 - loss: 0.5474 - val_accuracy: 0.7678 - val_loss: 0.6455\n",
      "Epoch 3/10\n",
      "\u001b[1m413/413\u001b[0m \u001b[32m━━━━━━━━━━━━━━━━━━━━\u001b[0m\u001b[37m\u001b[0m \u001b[1m2s\u001b[0m 4ms/step - accuracy: 0.8139 - loss: 0.4628 - val_accuracy: 0.8314 - val_loss: 0.4556\n",
      "Epoch 4/10\n",
      "\u001b[1m413/413\u001b[0m \u001b[32m━━━━━━━━━━━━━━━━━━━━\u001b[0m\u001b[37m\u001b[0m \u001b[1m2s\u001b[0m 5ms/step - accuracy: 0.8221 - loss: 0.4639 - val_accuracy: 0.8307 - val_loss: 0.4747\n",
      "Epoch 5/10\n",
      "\u001b[1m413/413\u001b[0m \u001b[32m━━━━━━━━━━━━━━━━━━━━\u001b[0m\u001b[37m\u001b[0m \u001b[1m2s\u001b[0m 4ms/step - accuracy: 0.8213 - loss: 0.4423 - val_accuracy: 0.8286 - val_loss: 0.4784\n",
      "Epoch 6/10\n",
      "\u001b[1m413/413\u001b[0m \u001b[32m━━━━━━━━━━━━━━━━━━━━\u001b[0m\u001b[37m\u001b[0m \u001b[1m1s\u001b[0m 3ms/step - accuracy: 0.8342 - loss: 0.4179 - val_accuracy: 0.8405 - val_loss: 0.4028\n",
      "Epoch 7/10\n",
      "\u001b[1m413/413\u001b[0m \u001b[32m━━━━━━━━━━━━━━━━━━━━\u001b[0m\u001b[37m\u001b[0m \u001b[1m1s\u001b[0m 3ms/step - accuracy: 0.8276 - loss: 0.4297 - val_accuracy: 0.8419 - val_loss: 0.3897\n",
      "Epoch 8/10\n",
      "\u001b[1m413/413\u001b[0m \u001b[32m━━━━━━━━━━━━━━━━━━━━\u001b[0m\u001b[37m\u001b[0m \u001b[1m1s\u001b[0m 3ms/step - accuracy: 0.8347 - loss: 0.3957 - val_accuracy: 0.8177 - val_loss: 0.4056\n",
      "Epoch 9/10\n",
      "\u001b[1m413/413\u001b[0m \u001b[32m━━━━━━━━━━━━━━━━━━━━\u001b[0m\u001b[37m\u001b[0m \u001b[1m1s\u001b[0m 3ms/step - accuracy: 0.8297 - loss: 0.4014 - val_accuracy: 0.8385 - val_loss: 0.3841\n",
      "Epoch 10/10\n",
      "\u001b[1m413/413\u001b[0m \u001b[32m━━━━━━━━━━━━━━━━━━━━\u001b[0m\u001b[37m\u001b[0m \u001b[1m1s\u001b[0m 3ms/step - accuracy: 0.8268 - loss: 0.4224 - val_accuracy: 0.8288 - val_loss: 0.3858\n",
      "Training Set Accuracy: 0.8477091789245605\n",
      "Testing Set Accuracy: 0.8385158777236938\n",
      "\u001b[1m177/177\u001b[0m \u001b[32m━━━━━━━━━━━━━━━━━━━━\u001b[0m\u001b[37m\u001b[0m \u001b[1m1s\u001b[0m 3ms/step\n",
      "              precision    recall  f1-score   support\n",
      "\n",
      "           0       0.79      0.92      0.85      2753\n",
      "           1       0.91      0.76      0.83      2907\n",
      "\n",
      "    accuracy                           0.84      5660\n",
      "   macro avg       0.85      0.84      0.84      5660\n",
      "weighted avg       0.85      0.84      0.84      5660\n",
      "\n"
     ]
    }
   ],
   "source": [
    "# Define the neural network model\n",
    "def create_nn_model(input_dim):\n",
    "    model = Sequential([\n",
    "        Dense(64, activation='relu', input_dim=input_dim),\n",
    "        Dense(32, activation='relu'),\n",
    "        Dense(1, activation='sigmoid')  # Assuming binary classification\n",
    "    ])\n",
    "    model.compile(optimizer='adam', loss='binary_crossentropy', metrics=['accuracy'])\n",
    "    return model\n",
    "\n",
    "# Create the neural network model\n",
    "nn_model = create_nn_model(X_train.shape[1])\n",
    "\n",
    "# Define early stopping criteria\n",
    "early_stopping = EarlyStopping(monitor='val_loss', patience=3, restore_best_weights=True)\n",
    "\n",
    "# Train the model with early stopping\n",
    "history = nn_model.fit(X_train, y_train, epochs=10, batch_size=32, \n",
    "                        validation_data=(X_test, y_test), callbacks=[early_stopping], verbose=1)\n",
    "\n",
    "# Evaluate on training and testing sets\n",
    "train_accuracy = nn_model.evaluate(X_train, y_train, verbose=0)[1]\n",
    "test_accuracy = nn_model.evaluate(X_test, y_test, verbose=0)[1]\n",
    "\n",
    "print('Training Set Accuracy:', train_accuracy)\n",
    "print('Testing Set Accuracy:', test_accuracy) \n",
    "\n",
    "# Generate predictions\n",
    "NN_pred_test = nn_model.predict(X_test)\n",
    "NN_pred = (NN_pred_test > 0.5).astype(int)\n",
    "\n",
    "# Generate classification report\n",
    "print(classification_report(y_test, NN_pred))"
   ]
  },
  {
   "cell_type": "markdown",
   "id": "5abf70e6-dcfb-4810-9510-f16373613ea8",
   "metadata": {},
   "source": [
    "Classfication Report:\n",
    "For class 0 (Non-Fraud):\n",
    "Precision:  0.79 , indicating that when the model predicts an instance as Non-Fraud, it is correct 79% of the time.\n",
    "Recall:  0.92, suggesting that the model effectively identifies 92% of actual Non-Fraud instances.\n",
    "F1-score: 0.85, reflecting a balance between precision and recall for Non-Fraud.\n",
    "\n",
    "For class 1 (Fraud):\n",
    "Precision: 0.91, meaning that when the model predicts an instance as Fraud, it is correct 91% of the time.\n",
    "Recall: 0.76, indicating that the model captures 76% of actual Fraud instances.\n",
    "F1-score:   0.83 , representing the harmonic mean of precision and recall for Fraud.\n",
    "\n",
    "In conclusion, the neural network model performance is relatively balanced between the two classes.This is just model without any hypertuning at the bottom of this notebook have done grid-search and random search for this model and accuracy and f1 score have been changed alot that will explained below."
   ]
  },
  {
   "cell_type": "markdown",
   "id": "ef77f017-ea4f-4d24-a038-fbbb6bebbf11",
   "metadata": {},
   "source": [
    "# All The Model Are Performed Using Grid-Search and Random-Search(Hypertuning Methods)"
   ]
  },
  {
   "cell_type": "code",
   "execution_count": 35,
   "id": "5714da00-1146-4090-9abe-4ab11f0f24b0",
   "metadata": {},
   "outputs": [
    {
     "name": "stdout",
     "output_type": "stream",
     "text": [
      "Searching hyperparameters for RandomForest...\n",
      "Fitting 5 folds for each of 9 candidates, totalling 45 fits\n"
     ]
    },
    {
     "name": "stderr",
     "output_type": "stream",
     "text": [
      "D:\\Bharath_Anconda\\Lib\\site-packages\\sklearn\\model_selection\\_search.py:305: UserWarning: The total space of parameters 9 is smaller than n_iter=10. Running 9 iterations. For exhaustive searches, use GridSearchCV.\n",
      "  warnings.warn(\n"
     ]
    },
    {
     "name": "stdout",
     "output_type": "stream",
     "text": [
      "Best parameters found: {'n_estimators': 50, 'max_depth': 20}\n",
      "Best score found: 0.9545626656569481\n",
      "Classification Report for RandomForest:\n",
      "              precision    recall  f1-score   support\n",
      "\n",
      "           0       0.95      0.97      0.96      2753\n",
      "           1       0.97      0.95      0.96      2907\n",
      "\n",
      "    accuracy                           0.96      5660\n",
      "   macro avg       0.96      0.96      0.96      5660\n",
      "weighted avg       0.96      0.96      0.96      5660\n",
      "\n",
      "Confusion Matrix for RandomForest:\n",
      "[[2660   93]\n",
      " [ 151 2756]]\n"
     ]
    },
    {
     "data": {
      "image/png": "[encoded data removed]",
      "text/plain": [
       "<Figure size 640x480 with 1 Axes>"
      ]
     },
     "metadata": {},
     "output_type": "display_data"
    },
    {
     "name": "stdout",
     "output_type": "stream",
     "text": [
      "Searching hyperparameters for LogisticRegression...\n",
      "Fitting 5 folds for each of 6 candidates, totalling 30 fits\n"
     ]
    },
    {
     "name": "stderr",
     "output_type": "stream",
     "text": [
      "D:\\Bharath_Anconda\\Lib\\site-packages\\sklearn\\model_selection\\_validation.py:378: FitFailedWarning: \n",
      "15 fits failed out of a total of 30.\n",
      "The score on these train-test partitions for these parameters will be set to nan.\n",
      "If these failures are not expected, you can try to debug them by setting error_score='raise'.\n",
      "\n",
      "Below are more details about the failures:\n",
      "--------------------------------------------------------------------------------\n",
      "15 fits failed with the following error:\n",
      "Traceback (most recent call last):\n",
      "  File \"D:\\Bharath_Anconda\\Lib\\site-packages\\sklearn\\model_selection\\_validation.py\", line 686, in _fit_and_score\n",
      "    estimator.fit(X_train, y_train, **fit_params)\n",
      "  File \"D:\\Bharath_Anconda\\Lib\\site-packages\\sklearn\\linear_model\\_logistic.py\", line 1162, in fit\n",
      "    solver = _check_solver(self.solver, self.penalty, self.dual)\n",
      "             ^^^^^^^^^^^^^^^^^^^^^^^^^^^^^^^^^^^^^^^^^^^^^^^^^^^\n",
      "  File \"D:\\Bharath_Anconda\\Lib\\site-packages\\sklearn\\linear_model\\_logistic.py\", line 54, in _check_solver\n",
      "    raise ValueError(\n",
      "ValueError: Solver lbfgs supports only 'l2' or 'none' penalties, got l1 penalty.\n",
      "\n",
      "  warnings.warn(some_fits_failed_message, FitFailedWarning)\n",
      "D:\\Bharath_Anconda\\Lib\\site-packages\\sklearn\\model_selection\\_search.py:952: UserWarning: One or more of the test scores are non-finite: [       nan 0.85157137        nan 0.851117          nan 0.85202575]\n",
      "  warnings.warn(\n",
      "D:\\Bharath_Anconda\\Lib\\site-packages\\sklearn\\linear_model\\_logistic.py:458: ConvergenceWarning: lbfgs failed to converge (status=1):\n",
      "STOP: TOTAL NO. of ITERATIONS REACHED LIMIT.\n",
      "\n",
      "Increase the number of iterations (max_iter) or scale the data as shown in:\n",
      "    https://scikit-learn.org/stable/modules/preprocessing.html\n",
      "Please also refer to the documentation for alternative solver options:\n",
      "    https://scikit-learn.org/stable/modules/linear_model.html#logistic-regression\n",
      "  n_iter_i = _check_optimize_result(\n"
     ]
    },
    {
     "name": "stdout",
     "output_type": "stream",
     "text": [
      "Best parameters found: {'C': 10, 'penalty': 'l2'}\n",
      "Best score found: 0.8520257478227944\n",
      "Classification Report for LogisticRegression:\n",
      "              precision    recall  f1-score   support\n",
      "\n",
      "           0       0.79      0.95      0.86      2753\n",
      "           1       0.94      0.76      0.84      2907\n",
      "\n",
      "    accuracy                           0.85      5660\n",
      "   macro avg       0.86      0.85      0.85      5660\n",
      "weighted avg       0.86      0.85      0.85      5660\n",
      "\n",
      "Confusion Matrix for LogisticRegression:\n",
      "[[2612  141]\n",
      " [ 712 2195]]\n"
     ]
    },
    {
     "data": {
      "image/png": "[encoded data removed]",
      "text/plain": [
       "<Figure size 640x480 with 1 Axes>"
      ]
     },
     "metadata": {},
     "output_type": "display_data"
    },
    {
     "name": "stdout",
     "output_type": "stream",
     "text": [
      "Searching hyperparameters for XGBoost...\n",
      "Fitting 5 folds for each of 9 candidates, totalling 45 fits\n"
     ]
    },
    {
     "name": "stderr",
     "output_type": "stream",
     "text": [
      "D:\\Bharath_Anconda\\Lib\\site-packages\\sklearn\\model_selection\\_search.py:305: UserWarning: The total space of parameters 9 is smaller than n_iter=10. Running 9 iterations. For exhaustive searches, use GridSearchCV.\n",
      "  warnings.warn(\n"
     ]
    },
    {
     "name": "stdout",
     "output_type": "stream",
     "text": [
      "Best parameters found: {'max_depth': 7, 'learning_rate': 0.1}\n",
      "Best score found: 0.964710336993563\n",
      "Classification Report for XGBoost:\n",
      "              precision    recall  f1-score   support\n",
      "\n",
      "           0       0.97      0.97      0.97      2753\n",
      "           1       0.97      0.97      0.97      2907\n",
      "\n",
      "    accuracy                           0.97      5660\n",
      "   macro avg       0.97      0.97      0.97      5660\n",
      "weighted avg       0.97      0.97      0.97      5660\n",
      "\n",
      "Confusion Matrix for XGBoost:\n",
      "[[2659   94]\n",
      " [  84 2823]]\n"
     ]
    },
    {
     "data": {
      "image/png": "[encoded data removed]",
      "text/plain": [
       "<Figure size 640x480 with 1 Axes>"
      ]
     },
     "metadata": {},
     "output_type": "display_data"
    },
    {
     "name": "stdout",
     "output_type": "stream",
     "text": [
      "Searching hyperparameters for NeuralNetwork...\n",
      "Fitting 5 folds for each of 18 candidates, totalling 90 fits\n",
      "Best parameters found: {'activation': 'tanh', 'alpha': 0.01, 'hidden_layer_sizes': (100,)}\n",
      "Best score found: 0.8856493752366529\n",
      "Classification Report for NeuralNetwork:\n",
      "              precision    recall  f1-score   support\n",
      "\n",
      "           0       0.80      0.94      0.87      2753\n",
      "           1       0.93      0.78      0.85      2907\n",
      "\n",
      "    accuracy                           0.86      5660\n",
      "   macro avg       0.87      0.86      0.86      5660\n",
      "weighted avg       0.87      0.86      0.86      5660\n",
      "\n",
      "Confusion Matrix for NeuralNetwork:\n",
      "[[2591  162]\n",
      " [ 634 2273]]\n"
     ]
    },
    {
     "data": {
      "image/png": "[encoded data removed]",
      "text/plain": [
       "<Figure size 640x480 with 1 Axes>"
      ]
     },
     "metadata": {},
     "output_type": "display_data"
    },
    {
     "name": "stdout",
     "output_type": "stream",
     "text": [
      "Searching hyperparameters for DecisionTree...\n",
      "Fitting 5 folds for each of 3 candidates, totalling 15 fits\n"
     ]
    },
    {
     "name": "stderr",
     "output_type": "stream",
     "text": [
      "D:\\Bharath_Anconda\\Lib\\site-packages\\sklearn\\model_selection\\_search.py:305: UserWarning: The total space of parameters 3 is smaller than n_iter=10. Running 3 iterations. For exhaustive searches, use GridSearchCV.\n",
      "  warnings.warn(\n"
     ]
    },
    {
     "name": "stdout",
     "output_type": "stream",
     "text": [
      "Best parameters found: {'max_depth': 10}\n",
      "Best score found: 0.9581976524043923\n",
      "Classification Report for DecisionTree:\n",
      "              precision    recall  f1-score   support\n",
      "\n",
      "           0       0.97      0.95      0.96      2753\n",
      "           1       0.95      0.97      0.96      2907\n",
      "\n",
      "    accuracy                           0.96      5660\n",
      "   macro avg       0.96      0.96      0.96      5660\n",
      "weighted avg       0.96      0.96      0.96      5660\n",
      "\n",
      "Confusion Matrix for DecisionTree:\n",
      "[[2609  144]\n",
      " [  89 2818]]\n"
     ]
    },
    {
     "data": {
      "image/png": "[encoded data removed]",
      "text/plain": [
       "<Figure size 640x480 with 1 Axes>"
      ]
     },
     "metadata": {},
     "output_type": "display_data"
    },
    {
     "name": "stdout",
     "output_type": "stream",
     "text": [
      "\n",
      "Top 3 Best-Performing Models:\n",
      "       Model  Precision   Recall  F1-Score  Accuracy\n",
      "     XGBoost   0.968576 0.968480  0.968525  0.968551\n",
      "DecisionTree   0.959198 0.958539  0.958778  0.958834\n",
      "RandomForest   0.956820 0.957138  0.956878  0.956890\n"
     ]
    }
   ],
   "source": [
    "# Define models and their parameter grids\n",
    "models = {\n",
    "    'RandomForest': (RandomForestClassifier(), {'n_estimators': [10, 50, 100], 'max_depth': [None, 10, 20]}),\n",
    "    'LogisticRegression': (LogisticRegression(), {'C': [0.1, 1, 10], 'penalty': ['l1', 'l2']}),\n",
    "    'XGBoost': (XGBClassifier(), {'max_depth': [3, 5, 7], 'learning_rate': [0.1, 0.01, 0.001]}),\n",
    "    'NeuralNetwork': (MLPClassifier(), {'hidden_layer_sizes': [(50,), (100,), (50, 50)], 'activation': ['relu', 'tanh'], 'alpha': [0.0001, 0.001, 0.01]}),\n",
    "    'DecisionTree': (DecisionTreeClassifier(), {'max_depth': [None, 10, 20]})\n",
    "}\n",
    "\n",
    "\n",
    "# Initialize variables to store model evaluation metrics\n",
    "model_metrics = []\n",
    "\n",
    "# Perform grid search or randomized grid search for each model\n",
    "for name, (model, param_grid) in models.items():\n",
    "    print(f\"Searching hyperparameters for {name}...\")\n",
    "    if name in ['RandomForest', 'XGBoost', 'DecisionTree']:\n",
    "        searcher = RandomizedSearchCV(model, param_grid, n_iter=10, cv=5, verbose=1, n_jobs=-1)\n",
    "    else:\n",
    "        searcher = GridSearchCV(model, param_grid, cv=5, verbose=1, n_jobs=-1)\n",
    "    searcher.fit(X_train, y_train)\n",
    "    print(f\"Best parameters found: {searcher.best_params_}\")\n",
    "    print(f\"Best score found: {searcher.best_score_}\")\n",
    "\n",
    "    # Evaluate the model\n",
    "    y_pred = searcher.predict(X_test)\n",
    "    print(f\"Classification Report for {name}:\")\n",
    "    print(classification_report(y_test, y_pred))\n",
    "    \n",
    "    #Confusion Martix\n",
    "    conf_matrix = confusion_matrix(y_test, y_pred)\n",
    "    # Print the confusion matrix \n",
    "    print(f'Confusion Matrix for {name}:')\n",
    "    print(conf_matrix)\n",
    "\n",
    "  \n",
    "    # Plot ROC curve\n",
    "    y_pred_proba = searcher.predict_proba(X_test)[:, 1]\n",
    "    fpr, tpr, thresholds = roc_curve(y_test, y_pred_proba)\n",
    "    roc_auc = auc(fpr, tpr)\n",
    "    plt.figure()\n",
    "    plt.plot(fpr, tpr, color='darkorange', lw=2, label=f'{name} (AUC = {roc_auc:.2f})')\n",
    "    plt.plot([0, 1], [0, 1], color='navy', lw=2, linestyle='--')\n",
    "    plt.xlim([0.0, 1.0])\n",
    "    plt.ylim([0.0, 1.05])\n",
    "    plt.xlabel('False Positive Rate')\n",
    "    plt.ylabel('True Positive Rate')\n",
    "    plt.title(f'ROC Curve for {name}')\n",
    "    plt.legend(loc=\"lower right\")\n",
    "    plt.show()\n",
    "    \n",
    "    # Store evaluation metrics\n",
    "    report = classification_report(y_test, y_pred, output_dict=True)\n",
    "    model_metrics.append({\n",
    "        'Model': name,\n",
    "        'Precision': report['macro avg']['precision'],\n",
    "        'Recall': report['macro avg']['recall'],\n",
    "        'F1-Score': report['macro avg']['f1-score'],\n",
    "        'Accuracy': report['accuracy']\n",
    "    })\n",
    "\n",
    "# Create a DataFrame to display model evaluation metrics\n",
    "metrics_df = pd.DataFrame(model_metrics)\n",
    "top_3_models = metrics_df.sort_values(by=['Accuracy'], ascending=False).head(3)\n",
    "\n",
    "# Display the top 3 best-performing models in a table format\n",
    "print(\"\\nTop 3 Best-Performing Models:\")\n",
    "print(top_3_models.to_string(index=False))\n"
   ]
  },
  {
   "cell_type": "markdown",
   "id": "7f918186-7ae7-46a8-8e3b-749c907a9f4f",
   "metadata": {},
   "source": [
    "Fraud Detection Using Random Forest Classifier\n",
    "\n",
    "Introduction: Fraud detection is a crucial aspect for financial institutions, essential for safeguarding against financial losses and maintaining customer trust. This report presents an analysis on fraud detection leveraging a Random Forest classifier.\n",
    "\n",
    "Model Selection and Hyperparameter Tuning: A Random Forest classifier was selected for its robustness in handling complex datasets and mitigating overfitting. Through hyperparameter tuning, the model was optimized, yielding the best parameters {'n_estimators': 50, 'max_depth': 20}. This resulted in a best score of 0.9546.\n",
    "\n",
    "Model Evaluation:\n",
    "During evaluation, the Random Forest classifier achieved an accuracy of 96%, indicating its effectiveness in accurately identifying fraudulent transactions.\n",
    "\n",
    "Classification Report Analysis:\n",
    "For non-fraudulent transactions (Class 0), the model demonstrated a precision of 0.95 and a recall of 0.97. This implies that 94% of transactions predicted as non-fraudulent were indeed non-fraudulent, and 97% of actual non-fraudulent transactions were correctly identified.\n",
    "For fraudulent transactions (Class 1), the model exhibited a precision of 0.97 and a recall of 0.95. This suggests that 97% of transactions predicted as fraudulent were truly fraudulent, and 95% of actual fraudulent transactions were correctly identified.\n",
    "\n",
    "Confusion Matrix Analysis:\n",
    "Out of 2753 non-fraudulent transactions, 2660 were correctly classified, while 93 were misclassified as fraudulent.\n",
    "Among 2907 fraudulent transactions, 2756 were correctly identified, but 151 were incorrectly classified as non-fraudulent.\n",
    "\n",
    "Conclusion:\n",
    "The Random Forest classifier, with optimal parameters {'n_estimators': 50, 'max_depth': 20}, showcased strong performance in fraud detection, achieving an accuracy of 96%. Its high precision and recall values indicate its reliability in distinguishing between fraudulent and non-fraudulent transactions. This model provides a robust framework for financial institutions to enhance their fraud detection mechanisms.\n",
    "\n"
   ]
  },
  {
   "cell_type": "markdown",
   "id": "d537b460-f111-4ae9-976d-90f1dc1d5794",
   "metadata": {},
   "source": [
    "Fraud Detection Using Logistic Regression Classifier\n",
    "\n",
    "Introduction: Fraud detection is a crucial task for financial institutions to minimize financial losses and maintain trust. This report presents an analysis of fraud detection using a Logistic Regression classifier.\n",
    "\n",
    "Model Selection and Hyperparameter Tuning: Logistic Regression was chosen for its simplicity and interpretability. The best parameters found were {'C': 10, 'penalty': 'l2'}. The model achieved a best score of 0.8520.\n",
    "\n",
    "Model Evaluation:\n",
    "During evaluation, the Logistic Regression classifier achieved an accuracy of 85%, indicating its effectiveness in identifying fraudulent transactions.\n",
    "\n",
    "Classification Report Analysis:\n",
    "For non-fraudulent transactions (Class 0), the precision was 0.79 and the recall was 0.95. This suggests that 79% of transactions predicted as non-fraudulent were indeed non-fraudulent, and 95% of actual non-fraudulent transactions were correctly identified.\n",
    "For fraudulent transactions (Class 1), the precision was 0.94 and the recall was 0.76. This implies that 94% of transactions predicted as fraudulent were truly fraudulent, and 76% of actual fraudulent transactions were correctly identified.\n",
    "\n",
    "Confusion Matrix Analysis:\n",
    "Out of 2753 non-fraudulent transactions, 2612 were correctly classified, while 141 were misclassified as fraudulent.\n",
    "Among 2907 fraudulent transactions, 2195 were correctly identified, but 712 were incorrectly classified as non-fraudulent.\n",
    "\n",
    "Conclusion:\n",
    "The Logistic Regression classifier, with optimized parameters {'C': 10, 'penalty': 'l2'}, demonstrated satisfactory performance in fraud detection, achieving an accuracy of 85%. While its precision for both classes is high, its recall for fraudulent transactions is comparatively lower. The ROC curve is very poorly curved.\n"
   ]
  },
  {
   "cell_type": "markdown",
   "id": "70f83be4-827e-4fba-88d5-afece1b2570d",
   "metadata": {},
   "source": [
    "Fraud Detection Using Neural Network Classifier\n",
    "\n",
    "Introduction: Fraud detection is a pivotal aspect for financial institutions to mitigate risks and maintain credibility. This report presents an analysis of fraud detection using a Neural Network classifier.\n",
    "\n",
    "Model Selection and Hyperparameter Tuning: A Neural Network classifier was selected for its capability to capture complex patterns in data. The best parameters found during hyperparameter tuning were {'activation': 'tanh', 'alpha': 0.01, 'hidden_layer_sizes': (100,)} with a best score of 0.8856.\n",
    "\n",
    "Model Evaluation:\n",
    "During evaluation, the Neural Network classifier achieved an accuracy of 86%, indicating its efficacy in identifying fraudulent transactions.\n",
    "\n",
    "Classification Report Analysis:\n",
    "For non-fraudulent transactions (Class 0), the precision was 0.80 and the recall was 0.94. This suggests that 80% of transactions predicted as non-fraudulent were indeed non-fraudulent, and 94% of actual non-fraudulent transactions were correctly identified.\n",
    "For fraudulent transactions (Class 1), the precision was 0.93 and the recall was 0.78. This implies that 93% of transactions predicted as fraudulent were truly fraudulent, and 78% of actual fraudulent transactions were correctly identified.\n",
    "\n",
    "Confusion Matrix Analysis:\n",
    "Out of 2753 non-fraudulent transactions, 2591 were correctly classified, while 162 were misclassified as fraudulent.\n",
    "Among 2907 fraudulent transactions, 2273 were correctly identified, but 634 were incorrectly classified as non-fraudulent.\n",
    "\n",
    "Conclusion:\n",
    "The Neural Network classifier, with optimized parameters {'activation': 'tanh', 'alpha': 0.01, 'hidden_layer_sizes': (100,)}, demonstrated promising performance in fraud detection, achieving an accuracy of 86%. While its precision for both classes is commendable, there's room for improvement in recall for fraudulent transactions.The ROC -curve is almost properly curved."
   ]
  },
  {
   "cell_type": "markdown",
   "id": "4d44e5ab-b952-4768-aae3-5de4fb8991d2",
   "metadata": {},
   "source": [
    "Fraud Detection Using XGBoost Classifier\n",
    "\n",
    "Introduction: Fraud detection is paramount for financial institutions to prevent losses and maintain trust. This report presents an analysis of fraud detection using an XGBoost classifier.\n",
    "\n",
    "Model Selection and Hyperparameter Tuning: XGBoost was chosen for its high performance and efficiency. The best parameters found during hyperparameter tuning were {'max_depth': 7, 'learning_rate': 0.1} with a best score of 0.9647.\n",
    "\n",
    "Model Evaluation:\n",
    "During evaluation, the XGBoost classifier achieved an accuracy of 97%, indicating its strong capability in identifying fraudulent transactions.\n",
    "\n",
    "Classification Report Analysis:\n",
    "For non-fraudulent transactions (Class 0), the precision was 0.97 and the recall was 0.97. This implies that 97% of transactions predicted as non-fraudulent were indeed non-fraudulent, and 97% of actual non-fraudulent transactions were correctly identified.\n",
    "For fraudulent transactions (Class 1), the precision was 0.97 and the recall was 0.97. This suggests that 97% of transactions predicted as fraudulent were truly fraudulent, and 97% of actual fraudulent transactions were correctly identified.\n",
    "\n",
    "Confusion Matrix Analysis:\n",
    "Out of 2753 non-fraudulent transactions, 2659 were correctly classified, while 94 were misclassified as fraudulent.\n",
    "Among 2907 fraudulent transactions, 2823 were correctly identified, but 84 were incorrectly classified as non-fraudulent.\n",
    "\n",
    "Conclusion:\n",
    "The XGBoost classifier, with optimized parameters {'max_depth': 7, 'learning_rate': 0.1}, demonstrated exceptional performance in fraud detection, achieving an accuracy of 97%. With high precision and recall values for both classes, the model proves to be robust and reliable for distinguishing between fraudulent and non-fraudulent transactions.The ROC curve is very much perfectly curved showing high accuracy in the graph."
   ]
  },
  {
   "cell_type": "markdown",
   "id": "705e0340-a234-4c07-9491-fa24b084a4dd",
   "metadata": {},
   "source": [
    "Fraud Detection Using Decision Tree Classifier\n",
    "\n",
    "Introduction: Fraud detection is essential for financial institutions to minimize risks and maintain trust. This report presents an analysis of fraud detection using a Decision Tree classifier.\n",
    "\n",
    "Model Selection and Hyperparameter Tuning: The Decision Tree classifier was chosen for its simplicity and interpretability. The best parameter found during hyperparameter tuning was {'max_depth': 10} with a best score of 0.9582.\n",
    "\n",
    "Model Evaluation:\n",
    "During evaluation, the Decision Tree classifier achieved an accuracy of 96%, indicating its effectiveness in identifying fraudulent transactions.\n",
    "\n",
    "Classification Report Analysis:\n",
    "For non-fraudulent transactions (Class 0), the precision was 0.97 and the recall was 0.95. This suggests that 97% of transactions predicted as non-fraudulent were indeed non-fraudulent, and 95% of actual non-fraudulent transactions were correctly identified.\n",
    "For fraudulent transactions (Class 1), the precision was 0.95 and the recall was 0.97. This implies that 95% of transactions predicted as fraudulent were truly fraudulent, and 97% of actual fraudulent transactions were correctly identified.\n",
    "\n",
    "Confusion Matrix Analysis:\n",
    "Out of 2753 non-fraudulent transactions, 2609 were correctly classified, while 144 were misclassified as fraudulent.\n",
    "Among 2907 fraudulent transactions, 2818 were correctly identified, but 89 were incorrectly classified as non-fraudulent.\n",
    "\n",
    "Conclusion:\n",
    "The Decision Tree classifier, with optimized parameter {'max_depth': 10}, demonstrated strong performance in fraud detection, achieving an accuracy of 96%. With high precision and recall values for both classes, the model proves to be effective in distinguishing between fraudulent and non-fraudulent transactions.The ROC curve is very much perfectly curved showing high accuracy in the graph."
   ]
  },
  {
   "cell_type": "markdown",
   "id": "e45dc87d-3beb-4bc6-bd97-bc9e5249a82f",
   "metadata": {},
   "source": [
    "# Conclusion"
   ]
  },
  {
   "cell_type": "markdown",
   "id": "8a99999f-8c48-4395-9a17-3e599e219740",
   "metadata": {},
   "source": [
    "Top 3 Best-Performing Models:\n",
    "       Model  Precision   Recall  F1-Score  Accuracy\n",
    "     XGBoost   0.966175 0.966010  0.966065  0.966075\n",
    "DecisionTree   0.957138 0.956663  0.956776  0.956798\n",
    "RandomForest   0.952345 0.952206  0.952026  0.952028\n",
    "\n",
    "\n",
    "Top 3 Best-Performing Models:\n",
    "       Model  Precision   Recall  F1-Score  Accuracy\n",
    "     XGBoost   0.968576 0.968480  0.968525  0.968551\n",
    "DecisionTree   0.959198 0.958539  0.958778  0.958834\n",
    "RandomForest   0.956820 0.957138  0.956878  0.956890\n",
    "\n",
    "\n",
    "The top three best-performing machine learning models for fraud detection based on precision, recall, F1-score, and accuracy metrics.\n",
    "\n",
    "1.XGBoost:\n",
    "Precision: 0.968\n",
    "Recall: 0.968\n",
    "F1-Score: 0.968\n",
    "Accuracy: 0.968\n",
    "XGBoost emerges as the top-performing model, demonstrating exceptional precision, recall, F1-score, and accuracy. Its robust performance indicates its efficacy in accurately identifying both fraudulent and non-fraudulent transactions.\n",
    "\n",
    "2.Decision Tree:\n",
    "\n",
    "Precision: 0.959\n",
    "Recall: 0.958\n",
    "F1-Score: 0.958\n",
    "Accuracy: 0.958\n",
    "The Decision Tree model closely follows XGBoost, exhibiting strong precision, recall, F1-score, and accuracy. It proves to be a reliable choice for fraud detection tasks.\n",
    "\n",
    "3. Random Forest:\n",
    "\n",
    "Precision: 0.956\n",
    "Recall: 0.957\n",
    "F1-Score: 0.956\n",
    "Accuracy: 0.956\n",
    "Random Forest ranks third among the best-performing models, showcasing commendable precision, recall, F1-score, and accuracy. While slightly lower than XGBoost and Decision Tree, it remains a robust solution for fraud detection.\n",
    "\n",
    "5. Conclusion:\n",
    "\n",
    "In conclusion, XGBoost, Decision Tree, and Random Forest models demonstrate strong performance in identifying fraudulent transactions. Their high precision, recall, F1-score, and accuracy metrics indicate their effectiveness in distinguishing between fraudulent and non-fraudulent transactions, thereby offering valuable insights for fraud detection in financial institutions.\n",
    "\n",
    "6. Future Work:\n",
    "Future work could focus on detection techniques with deep learning models to handle complex fraud patterns and improve detection accuracy further.\n"
   ]
  },
  {
   "cell_type": "markdown",
   "id": "501f60db-e9f8-4fca-927b-97dec75a2ff3",
   "metadata": {},
   "source": [
    "# References"
   ]
  },
  {
   "cell_type": "markdown",
   "id": "285f9355-0b97-4f48-8113-78f35fe8def6",
   "metadata": {},
   "source": [
    "[1] https://ieeexplore.ieee.org/document/9121114\n",
    "[2] chrome-extension://efaidnbmnnnibpcajpcglclefindmkaj/https://repository.rit.edu/cgi/viewcontent.cgi?article=12455&context=theses\n",
    "[3] https://www.javatpoint.com/logistic-regression-in-machine-learning\n",
    "[4] https://medium.com/@senapati.dipak97/grid-search-vs-random-search-d34c92946318"
   ]
  }
 ],
 "metadata": {
  "kernelspec": {
   "display_name": "Python 3 (ipykernel)",
   "language": "python",
   "name": "python3"
  },
  "language_info": {
   "codemirror_mode": {
    "name": "ipython",
    "version": 3
   },
   "file_extension": ".py",
   "mimetype": "text/x-python",
   "name": "python",
   "nbconvert_exporter": "python",
   "pygments_lexer": "ipython3",
   "version": "3.11.7"
  }
 },
 "nbformat": 4,
 "nbformat_minor": 5
}
